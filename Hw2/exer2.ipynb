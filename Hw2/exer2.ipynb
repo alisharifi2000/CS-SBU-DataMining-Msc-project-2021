{
 "cells": [
  {
   "cell_type": "code",
   "execution_count": 105,
   "metadata": {},
   "outputs": [],
   "source": [
    "import pandas as pd\n",
    "import numpy as np\n",
    "import matplotlib.pyplot as plt\n",
    "from sklearn.metrics import accuracy_score\n",
    "%matplotlib inline"
   ]
  },
  {
   "cell_type": "code",
   "execution_count": 106,
   "metadata": {},
   "outputs": [],
   "source": [
    "df = pd.read_csv('immo_data.csv')\n",
    "df = df[0:5000]"
   ]
  },
  {
   "cell_type": "code",
   "execution_count": 107,
   "metadata": {},
   "outputs": [],
   "source": [
    "df = df.dropna(axis=1, thresh=int(0.5*len(df)))\n",
    "df = df.fillna(df.mean())\n",
    "\n",
    "cat_col_list = list(df.loc[:, df.dtypes == np.object].astype('category'))\n",
    "for i in cat_col_list:\n",
    "    df[i] = df[i].astype('category')\n",
    "cat_columns = df.select_dtypes(['category']).columns\n",
    "df[cat_columns] = df[cat_columns].apply(lambda x: x.cat.codes)"
   ]
  },
  {
   "cell_type": "code",
   "execution_count": 15,
   "metadata": {
    "scrolled": true
   },
   "outputs": [
    {
     "name": "stdout",
     "output_type": "stream",
     "text": [
      "MSE- 8088.220146606301\n",
      "--------------------------------------------\n",
      "accuracy of each fold - [0.271]\n",
      "--------------------------------------------\n",
      "Avg accuracy : 0.054200000000000005\n"
     ]
    }
   ],
   "source": [
    "#سوال 1 - حالت 1\n",
    "#5 kf\n",
    "from sklearn.model_selection import KFold\n",
    "\n",
    "features = df[['baseRentRange']].to_numpy()\n",
    "target = df['livingSpaceRange'].to_numpy() \n",
    "weights = np.random.rand(1)\n",
    "b = np.random.rand(1) \n",
    "bias = np.array([b[0] for i in range(len(features))])\n",
    "\n",
    "\n",
    "kf = KFold(n_splits=5)\n",
    "kf.get_n_splits(features)\n",
    "#print(kf)\n",
    "\n",
    "acc_score = []\n",
    "\n",
    "for train_index, test_index in kf.split(features):\n",
    "    #print(\"TRAIN:\", train_index, \"TEST:\", test_index)\n",
    "    X_train, X_test = features[train_index], features[test_index]\n",
    "    y_train, y_test = target[train_index], target[test_index]\n",
    "    \n",
    "    \n",
    "def linearRegr(X_train, weights, bias):\n",
    "    y_hat = weights.dot(X_train.transpose()) + np.array([bias[0] for i in range(len(X_train))]) \n",
    "    return y_hat\n",
    "y_hat = linearRegr(X_test, weights, b)\n",
    "\n",
    "acc = accuracy_score(X_train , y_train)\n",
    "acc_score.append(acc)\n",
    "def meanSqrError(y, y_hat):\n",
    "    MSE = np.sum((y - y_hat) ** 2) / len(y)\n",
    "    return MSE\n",
    "\n",
    "avg_acc_score = sum(acc_score)/k\n",
    "print('MSE- {}'.format(meanSqrError(X_test, y_hat)))\n",
    "print('--------------------------------------------')\n",
    "print('accuracy of each fold - {}'.format(acc_score))\n",
    "print('--------------------------------------------')\n",
    "print('Avg accuracy : {}'.format(avg_acc_score))"
   ]
  },
  {
   "cell_type": "code",
   "execution_count": 14,
   "metadata": {},
   "outputs": [
    {
     "name": "stdout",
     "output_type": "stream",
     "text": [
      "MSE- 4849.5666484362155\n",
      "--------------------------------------------\n",
      "accuracy of each fold - [0.268]\n",
      "--------------------------------------------\n",
      "Avg accuracy : 0.0536\n"
     ]
    }
   ],
   "source": [
    "#سوال 1 - حالت 1\n",
    "#10 kf\n",
    "from sklearn.model_selection import KFold\n",
    "\n",
    "features = df[['baseRentRange']].to_numpy()\n",
    "target = df['livingSpaceRange'].to_numpy() \n",
    "weights = np.random.rand(1)\n",
    "b = np.random.rand(1) \n",
    "bias = np.array([b[0] for i in range(len(features))])\n",
    "\n",
    "\n",
    "kf = KFold(n_splits=10)\n",
    "kf.get_n_splits(features)\n",
    "#print(kf)\n",
    "\n",
    "acc_score = []\n",
    "\n",
    "for train_index, test_index in kf.split(features):\n",
    "    X_train, X_test = features[train_index], features[test_index]\n",
    "    y_train, y_test = target[train_index], target[test_index]\n",
    "    \n",
    "def linearRegr(X_train, weights, bias):\n",
    "    y_hat = weights.dot(X_train.transpose()) + np.array([bias[0] for i in range(len(X_train))]) \n",
    "    return y_hat\n",
    "y_hat = linearRegr(X_test, weights, b)\n",
    "\n",
    "acc = accuracy_score(X_train , y_train)\n",
    "acc_score.append(acc)\n",
    "def meanSqrError(y, y_hat):\n",
    "    MSE = np.sum((y - y_hat) ** 2) / len(y)\n",
    "    return MSE\n",
    "\n",
    "avg_acc_score = sum(acc_score)/k\n",
    "print('MSE- {}'.format(meanSqrError(X_test, y_hat)))\n",
    "print('--------------------------------------------')\n",
    "print('accuracy of each fold - {}'.format(acc_score))\n",
    "print('--------------------------------------------')\n",
    "print('Avg accuracy : {}'.format(avg_acc_score))"
   ]
  },
  {
   "cell_type": "code",
   "execution_count": 13,
   "metadata": {
    "scrolled": true
   },
   "outputs": [
    {
     "name": "stdout",
     "output_type": "stream",
     "text": [
      "accuracy of each fold - [0.409, 0.412, 0.398, 0.424, 0.422]\n",
      "--------------------------------------------\n",
      "Avg accuracy : 0.413\n"
     ]
    }
   ],
   "source": [
    "#سوال 1 - حالت 2\n",
    "#5 kf\n",
    "\n",
    "from sklearn.linear_model import LogisticRegression\n",
    "from sklearn.metrics import accuracy_score\n",
    "\n",
    "X = df[['baseRentRange']]\n",
    "y = df['livingSpaceRange']\n",
    "\n",
    "k = 5\n",
    "kf = KFold(n_splits=k, random_state=None)\n",
    "model = LogisticRegression(solver= 'liblinear')\n",
    "\n",
    "acc_score = []\n",
    "\n",
    "for train_index , test_index in kf.split(X):\n",
    "    X_train , X_test = X.iloc[train_index,:],X.iloc[test_index,:]\n",
    "    y_train , y_test = y[train_index] , y[test_index]\n",
    "    \n",
    "    model.fit(X_train,y_train)\n",
    "    pred_values = model.predict(X_test)\n",
    "    \n",
    "    acc = accuracy_score(pred_values , y_test)\n",
    "    acc_score.append(acc)\n",
    "    \n",
    "avg_acc_score = sum(acc_score)/k\n",
    "\n",
    "print('accuracy of each fold - {}'.format(acc_score))\n",
    "print('--------------------------------------------')\n",
    "print('Avg accuracy : {}'.format(avg_acc_score))"
   ]
  },
  {
   "cell_type": "code",
   "execution_count": 261,
   "metadata": {
    "scrolled": true
   },
   "outputs": [
    {
     "name": "stdout",
     "output_type": "stream",
     "text": [
      "accuracy of each fold - [0.394, 0.424, 0.406, 0.418, 0.392, 0.404, 0.41, 0.42, 0.41, 0.434]\n",
      "--------------------------------------------\n",
      "Avg accuracy : 0.4112\n"
     ]
    }
   ],
   "source": [
    "#سوال 1 - حالت 2\n",
    "#10 kf\n",
    "\n",
    "X = df[['baseRentRange']]\n",
    "y = df['livingSpaceRange']\n",
    "\n",
    "k = 10\n",
    "kf = KFold(n_splits=k, random_state=None)\n",
    "model = LogisticRegression(solver= 'liblinear')\n",
    "\n",
    "acc_score = []\n",
    "\n",
    "for train_index , test_index in kf.split(X):\n",
    "    X_train , X_test = X.iloc[train_index,:],X.iloc[test_index,:]\n",
    "    y_train , y_test = y[train_index] , y[test_index]\n",
    "    \n",
    "    model.fit(X_train,y_train)\n",
    "    pred_values = model.predict(X_test)\n",
    "    \n",
    "    acc = accuracy_score(pred_values , y_test)\n",
    "    acc_score.append(acc)\n",
    "    \n",
    "avg_acc_score = sum(acc_score)/k\n",
    "\n",
    "print('accuracy of each fold - {}'.format(acc_score))\n",
    "print('--------------------------------------------')\n",
    "print('Avg accuracy : {}'.format(avg_acc_score))"
   ]
  },
  {
   "cell_type": "code",
   "execution_count": 267,
   "metadata": {},
   "outputs": [],
   "source": [
    "\n",
    "x = df[['noRoomsRange','livingSpace','thermalChar','numberOfFloors']]\n",
    "y = df['livingSpaceRange']"
   ]
  },
  {
   "cell_type": "code",
   "execution_count": 268,
   "metadata": {},
   "outputs": [
    {
     "name": "stdout",
     "output_type": "stream",
     "text": [
      "accuracy of each fold - [0.394, 0.424, 0.406, 0.418, 0.392, 0.404, 0.41, 0.42, 0.41, 0.434]\n",
      "--------------------------------------------\n",
      "Avg accuracy : 0.4112\n"
     ]
    }
   ],
   "source": [
    "#سوال 1 - حالت 3\n",
    "#متغیر kf\n",
    "\n",
    "x = df[['noRoomsRange','livingSpace','thermalChar','numberOfFloors']]\n",
    "y = df['livingSpaceRange']\n",
    "\n",
    "k = 10\n",
    "kf = KFold(n_splits=k, random_state=None)\n",
    "model = LogisticRegression(solver= 'liblinear')\n",
    "\n",
    "acc_score = []\n",
    "\n",
    "for train_index , test_index in kf.split(X):\n",
    "    X_train , X_test = X.iloc[train_index,:],X.iloc[test_index,:]\n",
    "    y_train , y_test = y[train_index] , y[test_index]\n",
    "    \n",
    "    model.fit(X_train,y_train)\n",
    "    pred_values = model.predict(X_test)\n",
    "    \n",
    "    acc = accuracy_score(pred_values , y_test)\n",
    "    acc_score.append(acc)\n",
    "    \n",
    "avg_acc_score = sum(acc_score)/k\n",
    "\n",
    "print('accuracy of each fold - {}'.format(acc_score))\n",
    "print('--------------------------------------------')\n",
    "print('Avg accuracy : {}'.format(avg_acc_score))"
   ]
  },
  {
   "cell_type": "code",
   "execution_count": 16,
   "metadata": {},
   "outputs": [
    {
     "name": "stdout",
     "output_type": "stream",
     "text": [
      "accuracy of each fold - [0.394, 0.424, 0.406, 0.418, 0.392, 0.404, 0.41, 0.42, 0.41, 0.434]\n",
      "--------------------------------------------\n",
      "Avg accuracy : 0.4112\n"
     ]
    }
   ],
   "source": [
    "#سوال 1 - حالت 4\n",
    "#متغیر kf\n",
    "\n",
    "x = df[['serviceCharge','balcony']]\n",
    "y = df['livingSpaceRange']\n",
    "\n",
    "k = 10\n",
    "kf = KFold(n_splits=k, random_state=None)\n",
    "model = LogisticRegression(solver= 'liblinear')\n",
    "\n",
    "acc_score = []\n",
    "\n",
    "for train_index , test_index in kf.split(X):\n",
    "    X_train , X_test = X.iloc[train_index,:],X.iloc[test_index,:]\n",
    "    y_train , y_test = y[train_index] , y[test_index]\n",
    "    \n",
    "    model.fit(X_train,y_train)\n",
    "    pred_values = model.predict(X_test)\n",
    "    \n",
    "    acc = accuracy_score(pred_values , y_test)\n",
    "    acc_score.append(acc)\n",
    "    \n",
    "avg_acc_score = sum(acc_score)/k\n",
    "\n",
    "print('accuracy of each fold - {}'.format(acc_score))\n",
    "print('--------------------------------------------')\n",
    "print('Avg accuracy : {}'.format(avg_acc_score))"
   ]
  },
  {
   "cell_type": "code",
   "execution_count": 167,
   "metadata": {
    "scrolled": true
   },
   "outputs": [
    {
     "name": "stdout",
     "output_type": "stream",
     "text": [
      "[0.00959554 0.30691814]\n",
      "1.4344086819159476\n",
      "MSE- 0       1.023239\n",
      "1       0.037124\n",
      "2       3.245500\n",
      "3       0.380153\n",
      "4       0.003798\n",
      "          ...   \n",
      "3495    0.000000\n",
      "3496    0.000000\n",
      "3497    0.000000\n",
      "3498    0.000000\n",
      "3499    0.000000\n",
      "Length: 3500, dtype: float64\n"
     ]
    }
   ],
   "source": [
    "#سوال 1 - حالت 5\n",
    "#Ridge\n",
    "from sklearn import linear_model\n",
    "from sklearn import preprocessing\n",
    "from sklearn.model_selection import train_test_split\n",
    "from sklearn.linear_model import LinearRegression, Ridge\n",
    "\n",
    "x = df[['serviceCharge','balcony']]\n",
    "y = df['livingSpaceRange']\n",
    "\n",
    "X_train, X_test, y_train, y_test = train_test_split(\n",
    "    x, y, test_size=0.3, random_state=10)\n",
    "\n",
    "\n",
    "reg = linear_model.Ridge(alpha=.5)\n",
    "reg.fit(X_train, y_train)\n",
    "print(reg.coef_)\n",
    "print(reg.intercept_)\n",
    "\n",
    "ridge_reg = Ridge(alpha=0)\n",
    "ridge_reg.fit(X_train, y_train)\n",
    "ridge_df = pd.DataFrame({'variable': reg.intercept_, 'estimate': reg.coef_})\n",
    "ridge_train_pred = []\n",
    "ridge_test_pred = []\n",
    " \n",
    "for alpha in np.arange(0, 200, 1):\n",
    "    ridge_reg = Ridge(alpha=alpha)\n",
    "    ridge_reg.fit(X_train, y_train)\n",
    "    var_name = 'estimate' + str(alpha)\n",
    "    ridge_df[var_name] = ridge_reg.coef_\n",
    "\n",
    "    ridge_train_pred.append(ridge_reg.predict(X_train))\n",
    "    ridge_test_pred.append(ridge_reg.predict(X_test))\n",
    "    \n",
    "def meanSqrError(y, y_hat):\n",
    "    MSE = np.sum((y - y_hat) ** 2) / len(y)\n",
    "    return MSE\n",
    "print('MSE- {}'.format(meanSqrError(pd.DataFrame(ridge_test_pred), pd.DataFrame(ridge_train_pred))))"
   ]
  },
  {
   "cell_type": "code",
   "execution_count": 78,
   "metadata": {
    "scrolled": true
   },
   "outputs": [
    {
     "name": "stdout",
     "output_type": "stream",
     "text": [
      "f1_score 0.6706623175161328\n",
      "precision_score 0.6652074907961059\n",
      "recall_score 0.6778050001641551\n"
     ]
    },
    {
     "name": "stderr",
     "output_type": "stream",
     "text": [
      "c:\\users\\moein\\appdata\\local\\programs\\python\\python38-32\\lib\\site-packages\\sklearn\\linear_model\\_logistic.py:763: ConvergenceWarning: lbfgs failed to converge (status=1):\n",
      "STOP: TOTAL NO. of ITERATIONS REACHED LIMIT.\n",
      "\n",
      "Increase the number of iterations (max_iter) or scale the data as shown in:\n",
      "    https://scikit-learn.org/stable/modules/preprocessing.html\n",
      "Please also refer to the documentation for alternative solver options:\n",
      "    https://scikit-learn.org/stable/modules/linear_model.html#logistic-regression\n",
      "  n_iter_i = _check_optimize_result(\n"
     ]
    }
   ],
   "source": [
    "#بخش 3\n",
    "#سوال1\n",
    "from sklearn.linear_model import LogisticRegression\n",
    "from sklearn.model_selection import train_test_split\n",
    "\n",
    "df = pd.read_csv('mobileset.csv')\n",
    "\n",
    "df['fc']=df['fc'].fillna(0)\n",
    "df['four_g'] = df['four_g'].fillna(df['four_g'].mean())\n",
    "df['pc'] = df['pc'].fillna(method ='backfill')\n",
    "\n",
    "X = df.drop('price_range', axis=1)\n",
    "Y = df['price_range']\n",
    "\n",
    "X_train,X_test,Y_train,Y_test = train_test_split(X,Y,test_size = 0.20, random_state =101)\n",
    "logisticModel=LogisticRegression(solver ='lbfgs', multi_class='multinomial', max_iter = 10000)\n",
    "logisticModel.fit(X_train,Y_train)\n",
    "logisticModel.score(X_test,Y_test)\n",
    "\n",
    "y_pred = logisticModel.predict(X_test)\n",
    "from sklearn.metrics import accuracy_score, f1_score, precision_score, recall_score, classification_report, confusion_matrix\n",
    "print('f1_score', f1_score(Y_test, y_pred, average=\"macro\"))\n",
    "print('precision_score' ,precision_score(Y_test, y_pred, average=\"macro\"))\n",
    "print('recall_score', recall_score(Y_test, y_pred, average=\"macro\")) "
   ]
  },
  {
   "cell_type": "code",
   "execution_count": 98,
   "metadata": {},
   "outputs": [
    {
     "data": {
      "text/plain": [
       "<AxesSubplot:>"
      ]
     },
     "execution_count": 98,
     "metadata": {},
     "output_type": "execute_result"
    },
    {
     "data": {
      "image/png": "[encoded data removed]",
      "text/plain": [
       "<Figure size 432x288 with 1 Axes>"
      ]
     },
     "metadata": {
      "needs_background": "light"
     },
     "output_type": "display_data"
    }
   ],
   "source": [
    "#بخش 3\n",
    "#سوال2\n",
    "import matplotlib.pyplot as plt\n",
    "(df['price_range'].value_counts()).plot(kind='bar')"
   ]
  },
  {
   "cell_type": "code",
   "execution_count": 104,
   "metadata": {},
   "outputs": [
    {
     "name": "stdout",
     "output_type": "stream",
     "text": [
      "1    2007\n",
      "0     993\n",
      "Name: price_range, dtype: int64\n"
     ]
    }
   ],
   "source": [
    "#بخش 3\n",
    "#سوال 3\n",
    "df = pd.read_csv('mobileset.csv')\n",
    "df['price_range'] = df['price_range'].replace([2,3], 1)\n",
    "print(df['price_range'].value_counts())"
   ]
  },
  {
   "cell_type": "code",
   "execution_count": 105,
   "metadata": {},
   "outputs": [
    {
     "name": "stdout",
     "output_type": "stream",
     "text": [
      "f1_score 0.7878174982318125\n",
      "precision_score 0.7829895588396545\n",
      "recall_score 0.7941120607787274\n"
     ]
    }
   ],
   "source": [
    "#بخش 3\n",
    "#سوال4\n",
    "\n",
    "from sklearn.linear_model import LogisticRegression\n",
    "from sklearn.model_selection import train_test_split\n",
    "\n",
    "df['fc']=df['fc'].fillna(0)\n",
    "df['four_g'] = df['four_g'].fillna(df['four_g'].mean())\n",
    "df['pc'] = df['pc'].fillna(method ='backfill')\n",
    "\n",
    "X = df.drop('price_range', axis=1)\n",
    "Y = df['price_range']\n",
    "\n",
    "X_train,X_test,Y_train,Y_test = train_test_split(X,Y,test_size = 0.20, random_state =101)\n",
    "logisticModel=LogisticRegression(solver ='lbfgs', multi_class='multinomial', max_iter = 10000)\n",
    "logisticModel.fit(X_train,Y_train)\n",
    "logisticModel.score(X_test,Y_test)\n",
    "\n",
    "y_pred = logisticModel.predict(X_test)\n",
    "from sklearn.metrics import accuracy_score, f1_score, precision_score, recall_score, classification_report, confusion_matrix\n",
    "print('f1_score', f1_score(Y_test, y_pred, average=\"macro\"))\n",
    "print('precision_score' ,precision_score(Y_test, y_pred, average=\"macro\"))\n",
    "print('recall_score', recall_score(Y_test, y_pred, average=\"macro\")) "
   ]
  },
  {
   "cell_type": "markdown",
   "metadata": {},
   "source": [
    "#بخش3\n",
    "\n",
    "#سوال4\n",
    "<div dir=rtl>\n",
    "روش های مختلفی برای کلاس بندی این نوع داده ها ارائه شده است .در کلاس بندی این داده ها می کوشیم تا تعداد حالات کلاس اقلیت را نسبت به کلاس اکثریت افزایش دهیم\n",
    "\n",
    "    1. Random Undersampling and Oversampling\n",
    "یک روش بسیار ساده و شاید ساده‌ترین روش برای مقابله با داده‌های بسیار نامتعادل نیز نمونه‌گیری مجدد نامیده می‌شود. این روش شامل حذف نمونه‌ها از طبقه اقلیت (تحت نمونه‌گیری)و / یا افزودن مثال‌های بیشتر از طبقه اقلیت (نمونه‌گیری بیش از نمونه‌گیری)است.\n",
    "\n",
    "    2. Undersampling and Oversampling using imbalanced-learn\n",
    "یکی از روش‌هایی که آن فراهم می‌کند پیوندهای Tomek نامیده می‌شود. حذف عنصر اکثریت  که یک مرز تصمیم‌گیری بهتر برای طبقه‌بندی کننده را فراهم می‌کند.\n",
    "\n",
    "    3.Oversampling using SMOTE:\n",
    "در smote (تکنیک Oversampling اقلیت مصنوعی)، ما عناصری را برای طبقه اقلیت، در مجاورت عناصر موجود، ترکیب می‌کنیم.\n",
    "</div>"
   ]
  },
  {
   "cell_type": "code",
   "execution_count": 143,
   "metadata": {},
   "outputs": [],
   "source": [
    "#بخش 3\n",
    "#سوال 5\n",
    "df = pd.read_csv('mobileset.csv')\n",
    "df['price_range'] = df['price_range'].replace([2,3], 1)\n",
    "\n",
    "count_class_0, count_class_1 = df.price_range.value_counts()\n",
    "df1 = df[df['price_range'] == 1]\n",
    "df0 = df[df['price_range'] == 0]"
   ]
  },
  {
   "cell_type": "code",
   "execution_count": 140,
   "metadata": {},
   "outputs": [
    {
     "name": "stdout",
     "output_type": "stream",
     "text": [
      "Random under-sampling:\n",
      "1    993\n",
      "0    993\n",
      "Name: price_range, dtype: int64\n"
     ]
    },
    {
     "data": {
      "image/png": "[encoded data removed]",
      "text/plain": [
       "<Figure size 432x288 with 1 Axes>"
      ]
     },
     "metadata": {
      "needs_background": "light"
     },
     "output_type": "display_data"
    }
   ],
   "source": [
    "#Random under-sampling\n",
    "df1_under = df1.sample(count_class_1)\n",
    "df_test_under = pd.concat([df1_under, df0], axis=0)\n",
    "\n",
    "print('Random under-sampling:')\n",
    "print(df_test_under.price_range.value_counts())\n",
    "\n",
    "df_test_under.price_range.value_counts().plot(kind='bar', title='Count (price_range)');"
   ]
  },
  {
   "cell_type": "code",
   "execution_count": 142,
   "metadata": {},
   "outputs": [
    {
     "name": "stdout",
     "output_type": "stream",
     "text": [
      "Random over-sampling:\n",
      "1    2007\n",
      "0    2007\n",
      "Name: price_range, dtype: int64\n"
     ]
    },
    {
     "data": {
      "image/png": "[encoded data removed]",
      "text/plain": [
       "<Figure size 432x288 with 1 Axes>"
      ]
     },
     "metadata": {
      "needs_background": "light"
     },
     "output_type": "display_data"
    }
   ],
   "source": [
    "#Random over-sampling\n",
    "df0_over = df0.sample(count_class_0, replace=True)\n",
    "df_test_over = pd.concat([df1, df0_over], axis=0)\n",
    "\n",
    "print('Random over-sampling:')\n",
    "print(df_test_over.price_range.value_counts())\n",
    "\n",
    "df_test_over.price_range.value_counts().plot(kind='bar', title='Count (price_range)');"
   ]
  },
  {
   "cell_type": "code",
   "execution_count": 150,
   "metadata": {},
   "outputs": [
    {
     "name": "stdout",
     "output_type": "stream",
     "text": [
      "f1_score 0.8264242782386926\n",
      "precision_score 0.8303643090042638\n",
      "recall_score 0.8268352749965882\n"
     ]
    }
   ],
   "source": [
    "#رگرسیون لجستیک روی داده های oversample\n",
    "from sklearn.linear_model import LogisticRegression\n",
    "from sklearn.model_selection import train_test_split\n",
    "df = df_test_over\n",
    "\n",
    "df['fc']=df['fc'].fillna(0)\n",
    "df['four_g'] = df['four_g'].fillna(df['four_g'].mean())\n",
    "df['pc'] = df['pc'].fillna(method ='backfill')\n",
    "\n",
    "X = df.drop('price_range', axis=1)\n",
    "Y = df['price_range']\n",
    "\n",
    "X_train,X_test,Y_train,Y_test = train_test_split(X,Y,test_size = 0.20, random_state =101)\n",
    "logisticModel=LogisticRegression(solver ='lbfgs', multi_class='multinomial', max_iter = 10000)\n",
    "logisticModel.fit(X_train,Y_train)\n",
    "logisticModel.score(X_test,Y_test)\n",
    "\n",
    "y_pred = logisticModel.predict(X_test)\n",
    "from sklearn.metrics import accuracy_score, f1_score, precision_score, recall_score, classification_report, confusion_matrix\n",
    "print('f1_score', f1_score(Y_test, y_pred, average=\"macro\"))\n",
    "print('precision_score' ,precision_score(Y_test, y_pred, average=\"macro\"))\n",
    "print('recall_score', recall_score(Y_test, y_pred, average=\"macro\")) "
   ]
  },
  {
   "cell_type": "code",
   "execution_count": 156,
   "metadata": {},
   "outputs": [
    {
     "name": "stderr",
     "output_type": "stream",
     "text": [
      "<ipython-input-156-0e5a79328371>:14: DeprecationWarning: The default dtype for empty Series will be 'object' instead of 'float64' in a future version. Specify a dtype explicitly to silence this warning.\n",
      "  new_pval = pd.Series(index=remaining_features)\n",
      "<ipython-input-156-0e5a79328371>:14: DeprecationWarning: The default dtype for empty Series will be 'object' instead of 'float64' in a future version. Specify a dtype explicitly to silence this warning.\n",
      "  new_pval = pd.Series(index=remaining_features)\n",
      "<ipython-input-156-0e5a79328371>:14: DeprecationWarning: The default dtype for empty Series will be 'object' instead of 'float64' in a future version. Specify a dtype explicitly to silence this warning.\n",
      "  new_pval = pd.Series(index=remaining_features)\n",
      "<ipython-input-156-0e5a79328371>:14: DeprecationWarning: The default dtype for empty Series will be 'object' instead of 'float64' in a future version. Specify a dtype explicitly to silence this warning.\n",
      "  new_pval = pd.Series(index=remaining_features)\n",
      "<ipython-input-156-0e5a79328371>:14: DeprecationWarning: The default dtype for empty Series will be 'object' instead of 'float64' in a future version. Specify a dtype explicitly to silence this warning.\n",
      "  new_pval = pd.Series(index=remaining_features)\n",
      "<ipython-input-156-0e5a79328371>:14: DeprecationWarning: The default dtype for empty Series will be 'object' instead of 'float64' in a future version. Specify a dtype explicitly to silence this warning.\n",
      "  new_pval = pd.Series(index=remaining_features)\n",
      "<ipython-input-156-0e5a79328371>:14: DeprecationWarning: The default dtype for empty Series will be 'object' instead of 'float64' in a future version. Specify a dtype explicitly to silence this warning.\n",
      "  new_pval = pd.Series(index=remaining_features)\n",
      "<ipython-input-156-0e5a79328371>:14: DeprecationWarning: The default dtype for empty Series will be 'object' instead of 'float64' in a future version. Specify a dtype explicitly to silence this warning.\n",
      "  new_pval = pd.Series(index=remaining_features)\n"
     ]
    }
   ],
   "source": [
    "#بخش 3\n",
    "#سوال 6\n",
    "\n",
    "import statsmodels.api as sm\n",
    "\n",
    "df = pd.read_csv('mobileset.csv')\n",
    "df['fc']=df['fc'].fillna(0)\n",
    "df['four_g'] = df['four_g'].fillna(df['four_g'].mean())\n",
    "df['pc'] = df['pc'].fillna(method ='backfill')\n",
    "\n",
    "\n",
    "def forward_selection(data, target, significance_level=0.05):\n",
    "    initial_features = data.columns.tolist()\n",
    "    best_features = []\n",
    "    while (len(initial_features)>0):\n",
    "        remaining_features = list(set(initial_features)-set(best_features))\n",
    "        new_pval = pd.Series(index=remaining_features)\n",
    "        for new_column in remaining_features:\n",
    "            model = sm.OLS(target, sm.add_constant(data[best_features+[new_column]])).fit()\n",
    "            new_pval[new_column] = model.pvalues[new_column]\n",
    "        min_p_value = new_pval.min()\n",
    "        if(min_p_value<significance_level):\n",
    "            best_features.append(new_pval.idxmin())\n",
    "        else:\n",
    "            break\n",
    "    return best_features\n",
    "\n",
    "\n",
    "\n",
    "X = df.drop('price_range', axis=1)\n",
    "Y = df['price_range']\n",
    "Feature_list = (forward_selection(X,Y))"
   ]
  },
  {
   "cell_type": "code",
   "execution_count": 158,
   "metadata": {},
   "outputs": [
    {
     "name": "stdout",
     "output_type": "stream",
     "text": [
      "f1_score 0.7049819947874444\n",
      "precision_score 0.697554936626989\n",
      "recall_score 0.716901203256837\n"
     ]
    },
    {
     "name": "stderr",
     "output_type": "stream",
     "text": [
      "c:\\users\\moein\\appdata\\local\\programs\\python\\python38-32\\lib\\site-packages\\sklearn\\linear_model\\_logistic.py:763: ConvergenceWarning: lbfgs failed to converge (status=1):\n",
      "STOP: TOTAL NO. of ITERATIONS REACHED LIMIT.\n",
      "\n",
      "Increase the number of iterations (max_iter) or scale the data as shown in:\n",
      "    https://scikit-learn.org/stable/modules/preprocessing.html\n",
      "Please also refer to the documentation for alternative solver options:\n",
      "    https://scikit-learn.org/stable/modules/linear_model.html#logistic-regression\n",
      "  n_iter_i = _check_optimize_result(\n"
     ]
    }
   ],
   "source": [
    "#بخش 3\n",
    "#سوال 7\n",
    "from sklearn.linear_model import LogisticRegression\n",
    "from sklearn.model_selection import train_test_split\n",
    "\n",
    "df['fc']=df['fc'].fillna(0)\n",
    "df['four_g'] = df['four_g'].fillna(df['four_g'].mean())\n",
    "df['pc'] = df['pc'].fillna(method ='backfill')\n",
    "\n",
    "X = df[Feature_list]\n",
    "Y = df['price_range']\n",
    "\n",
    "X_train,X_test,Y_train,Y_test = train_test_split(X,Y,test_size = 0.20, random_state =101)\n",
    "logisticModel=LogisticRegression(solver ='lbfgs', multi_class='multinomial', max_iter = 10000)\n",
    "logisticModel.fit(X_train,Y_train)\n",
    "logisticModel.score(X_test,Y_test)\n",
    "\n",
    "y_pred = logisticModel.predict(X_test)\n",
    "from sklearn.metrics import accuracy_score, f1_score, precision_score, recall_score, classification_report, confusion_matrix\n",
    "print('f1_score', f1_score(Y_test, y_pred, average=\"macro\"))\n",
    "print('precision_score' ,precision_score(Y_test, y_pred, average=\"macro\"))\n",
    "print('recall_score', recall_score(Y_test, y_pred, average=\"macro\")) "
   ]
  },
  {
   "cell_type": "code",
   "execution_count": 174,
   "metadata": {},
   "outputs": [
    {
     "name": "stdout",
     "output_type": "stream",
     "text": [
      "[0.609724074766383, 0.21500125163994332, 0.07174253425086446, 0.049081526272640445, 0.030045501890313027, 0.023720208535572825, 0.0004041874740618399]\n",
      "[81287.91534511611, 48270.2789408491, 27883.52470549853, 23063.13515635128, 18044.67422952623, 16033.139298288304, 2092.9108989802667]\n"
     ]
    }
   ],
   "source": [
    "#بخش 3\n",
    "#سوال 9\n",
    "df['fc']=df['fc'].fillna(0)\n",
    "df['four_g'] = df['four_g'].fillna(df['four_g'].mean())\n",
    "df['pc'] = df['pc'].fillna(method ='backfill')\n",
    "\n",
    "X = df[Feature_list]\n",
    "Y = df['price_range']\n",
    "\n",
    "X = df.drop('price_range', axis=1)\n",
    "Y = df['price_range']\n",
    "\n",
    "pca = PCA(n_components=7)\n",
    "pca.fit(X,Y)\n",
    "print(list(pca.explained_variance_ratio_))\n",
    "print(list(pca.singular_values_))"
   ]
  },
  {
   "cell_type": "code",
   "execution_count": 175,
   "metadata": {},
   "outputs": [
    {
     "data": {
      "text/plain": [
       "LogisticRegression(max_iter=10000, multi_class='multinomial')"
      ]
     },
     "execution_count": 175,
     "metadata": {},
     "output_type": "execute_result"
    }
   ],
   "source": [
    "X_train,X_test,Y_train,Y_test = train_test_split(X,Y,test_size = 0.20, random_state =101)\n",
    "logisticModel=LogisticRegression(solver ='lbfgs', multi_class='multinomial', max_iter = 10000)\n",
    "\n",
    "X_train_pca = pca.fit_transform(X_train)\n",
    "X_test_pca = pca.transform(X_test)\n",
    "logisticModel.fit(X_train_pca, Y_train)\n",
    "\n",
    "y_pred = logisticModel.predict(X_test_pca)\n",
    "from sklearn.metrics import accuracy_score, f1_score, precision_score, recall_score, classification_report, confusion_matrix\n",
    "print('f1_score', f1_score(Y_test, y_pred, average=\"macro\"))\n",
    "print('precision_score' ,precision_score(Y_test, y_pred, average=\"macro\"))\n",
    "print('recall_score', recall_score(Y_test, y_pred, average=\"macro\")) "
   ]
  },
  {
   "cell_type": "code",
   "execution_count": 189,
   "metadata": {},
   "outputs": [
    {
     "name": "stdout",
     "output_type": "stream",
     "text": [
      "f1_score 0.18833125601501977\n",
      "precision_score 0.15819705892175306\n",
      "recall_score 0.23264716504153124\n"
     ]
    },
    {
     "name": "stderr",
     "output_type": "stream",
     "text": [
      "c:\\users\\moein\\appdata\\local\\programs\\python\\python38-32\\lib\\site-packages\\sklearn\\metrics\\_classification.py:1248: UndefinedMetricWarning: Precision is ill-defined and being set to 0.0 in labels with no predicted samples. Use `zero_division` parameter to control this behavior.\n",
      "  _warn_prf(average, modifier, msg_start, len(result))\n"
     ]
    }
   ],
   "source": [
    "#بخش 3\n",
    "#سوال 11\n",
    "#5k\n",
    "from sklearn.model_selection import KFold\n",
    "\n",
    "df = pd.read_csv('mobileset.csv')\n",
    "df['fc']=df['fc'].fillna(0)\n",
    "df['four_g'] = df['four_g'].fillna(df['four_g'].mean())\n",
    "df['pc'] = df['pc'].fillna(method ='backfill')\n",
    "\n",
    "X = df.to_numpy()\n",
    "Y = df['price_range'].to_numpy() \n",
    "weights = np.random.rand(1)\n",
    "b = np.random.rand(1) \n",
    "bias = np.array([b[0] for i in range(len(X))])\n",
    "\n",
    "\n",
    "kf = KFold(n_splits=5)\n",
    "kf.get_n_splits(X)\n",
    "\n",
    "for train_index, test_index in kf.split(X):\n",
    "    #print(\"TRAIN:\", train_index, \"TEST:\", test_index)\n",
    "    X_train, X_test = X[train_index], X[test_index]\n",
    "    y_train, y_test = Y[train_index], Y[test_index]\n",
    "\n",
    "logisticModel=LogisticRegression(solver ='lbfgs', multi_class='multinomial', max_iter = 10000)\n",
    "logisticModel.fit(X_train,Y_train)\n",
    "logisticModel.score(X_test,Y_test)\n",
    "\n",
    "y_pred = logisticModel.predict(X_test)\n",
    "from sklearn.metrics import accuracy_score, f1_score, precision_score, recall_score, classification_report, confusion_matrix\n",
    "print('f1_score', f1_score(Y_test, y_pred, average=\"macro\"))\n",
    "print('precision_score' ,precision_score(Y_test, y_pred, average=\"macro\"))\n",
    "print('recall_score', recall_score(Y_test, y_pred, average=\"macro\")) \n"
   ]
  },
  {
   "cell_type": "code",
   "execution_count": null,
   "metadata": {},
   "outputs": [],
   "source": []
  }
 ],
 "metadata": {
  "kernelspec": {
   "display_name": "Python 3",
   "language": "python",
   "name": "python3"
  },
  "language_info": {
   "codemirror_mode": {
    "name": "ipython",
    "version": 3
   },
   "file_extension": ".py",
   "mimetype": "text/x-python",
   "name": "python",
   "nbconvert_exporter": "python",
   "pygments_lexer": "ipython3",
   "version": "3.8.5"
  }
 },
 "nbformat": 4,
 "nbformat_minor": 4
}
