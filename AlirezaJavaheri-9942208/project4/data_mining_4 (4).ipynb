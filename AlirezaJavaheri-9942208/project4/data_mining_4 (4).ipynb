{
  "nbformat": 4,
  "nbformat_minor": 0,
  "metadata": {
    "colab": {
      "name": "data-mining-4.ipynb",
      "provenance": [],
      "collapsed_sections": []
    },
    "kernelspec": {
      "display_name": "Python 3",
      "name": "python3"
    },
    "language_info": {
      "name": "python"
    }
  },
  "cells": [
    {
      "cell_type": "code",
      "metadata": {
        "id": "kJkvIXl6k0xc"
      },
      "source": [
        "import pandas as pd\n",
        "import numpy as np\n",
        "import seaborn as sns\n",
        "import matplotlib.pyplot as plt"
      ],
      "execution_count": 1,
      "outputs": []
    },
    {
      "cell_type": "code",
      "metadata": {
        "id": "6YSUGhE2kQP9"
      },
      "source": [
        "mobile_file = 'drive/My Drive/Projects/university/data-mining/hw-3/archive'"
      ],
      "execution_count": 2,
      "outputs": []
    },
    {
      "cell_type": "code",
      "metadata": {
        "id": "znAIaO1pkxOn"
      },
      "source": [
        "train = pd.read_csv(mobile_file + '/train.csv')\n",
        "test = pd.read_csv(mobile_file + '/test.csv')"
      ],
      "execution_count": 3,
      "outputs": []
    },
    {
      "cell_type": "code",
      "metadata": {
        "id": "6rKIj-ETkxp3"
      },
      "source": [
        "train_y = train['price_range']\n",
        "train_x = train.drop(columns = ['price_range'])"
      ],
      "execution_count": 4,
      "outputs": []
    },
    {
      "cell_type": "code",
      "metadata": {
        "id": "dxT7NbwRk48J"
      },
      "source": [
        "from sklearn.pipeline import make_pipeline\n",
        "from sklearn.preprocessing import StandardScaler\n",
        "from sklearn.metrics import classification_report\n",
        "from sklearn.svm import SVC"
      ],
      "execution_count": 23,
      "outputs": []
    },
    {
      "cell_type": "markdown",
      "metadata": {
        "id": "FwwoHnM0nFUG"
      },
      "source": [
        "### without kernel"
      ]
    },
    {
      "cell_type": "code",
      "metadata": {
        "id": "QPUMPErZlfzv"
      },
      "source": [
        "clf = make_pipeline(StandardScaler(), SVC(gamma = 'auto', kernel = 'linear'))"
      ],
      "execution_count": null,
      "outputs": []
    },
    {
      "cell_type": "code",
      "metadata": {
        "colab": {
          "base_uri": "https://localhost:8080/"
        },
        "id": "35xgBoGWls4O",
        "outputId": "deb053e5-7c60-4b89-b7b6-177e1d463486"
      },
      "source": [
        "clf.fit(train_x, train_y)"
      ],
      "execution_count": null,
      "outputs": [
        {
          "output_type": "execute_result",
          "data": {
            "text/plain": [
              "Pipeline(memory=None,\n",
              "         steps=[('standardscaler',\n",
              "                 StandardScaler(copy=True, with_mean=True, with_std=True)),\n",
              "                ('svc',\n",
              "                 SVC(C=1.0, break_ties=False, cache_size=200, class_weight=None,\n",
              "                     coef0=0.0, decision_function_shape='ovr', degree=3,\n",
              "                     gamma='auto', kernel='linear', max_iter=-1,\n",
              "                     probability=False, random_state=None, shrinking=True,\n",
              "                     tol=0.001, verbose=False))],\n",
              "         verbose=False)"
            ]
          },
          "metadata": {
            "tags": []
          },
          "execution_count": 7
        }
      ]
    },
    {
      "cell_type": "code",
      "metadata": {
        "id": "A082Z3q2l_ku"
      },
      "source": [
        "pred = clf.predict(train_x)"
      ],
      "execution_count": null,
      "outputs": []
    },
    {
      "cell_type": "code",
      "metadata": {
        "colab": {
          "base_uri": "https://localhost:8080/"
        },
        "id": "EHbcsNhlmEnX",
        "outputId": "ede3ad82-ffc4-4139-d986-e1da9c2078de"
      },
      "source": [
        "print(classification_report(pred, train_y))"
      ],
      "execution_count": null,
      "outputs": [
        {
          "output_type": "stream",
          "text": [
            "              precision    recall  f1-score   support\n",
            "\n",
            "           0       0.99      0.99      0.99       501\n",
            "           1       0.98      0.98      0.98       500\n",
            "           2       0.96      0.98      0.97       493\n",
            "           3       0.99      0.98      0.98       506\n",
            "\n",
            "    accuracy                           0.98      2000\n",
            "   macro avg       0.98      0.98      0.98      2000\n",
            "weighted avg       0.98      0.98      0.98      2000\n",
            "\n"
          ],
          "name": "stdout"
        }
      ]
    },
    {
      "cell_type": "markdown",
      "metadata": {
        "id": "KENz1r7kmNQq"
      },
      "source": [
        "### with rbf kernel"
      ]
    },
    {
      "cell_type": "code",
      "metadata": {
        "id": "C2EpcZCNmIsB"
      },
      "source": [
        "clf = make_pipeline(StandardScaler(), SVC(gamma = 'auto', kernel = 'rbf'))"
      ],
      "execution_count": null,
      "outputs": []
    },
    {
      "cell_type": "code",
      "metadata": {
        "id": "TqP2Cve2mbJX"
      },
      "source": [
        "clf.fit(train_x, train_y)\n",
        "pred = clf.predict(train_x)"
      ],
      "execution_count": null,
      "outputs": []
    },
    {
      "cell_type": "code",
      "metadata": {
        "colab": {
          "base_uri": "https://localhost:8080/"
        },
        "id": "CGCurvndmdse",
        "outputId": "f03f8f22-f1a9-413a-fd47-cfc86a25678a"
      },
      "source": [
        "print(classification_report(pred, train_y))"
      ],
      "execution_count": null,
      "outputs": [
        {
          "output_type": "stream",
          "text": [
            "              precision    recall  f1-score   support\n",
            "\n",
            "           0       0.99      0.99      0.99       498\n",
            "           1       0.98      0.97      0.98       506\n",
            "           2       0.98      0.97      0.98       503\n",
            "           3       0.98      1.00      0.99       493\n",
            "\n",
            "    accuracy                           0.98      2000\n",
            "   macro avg       0.98      0.98      0.98      2000\n",
            "weighted avg       0.98      0.98      0.98      2000\n",
            "\n"
          ],
          "name": "stdout"
        }
      ]
    },
    {
      "cell_type": "markdown",
      "metadata": {
        "id": "1xMEOwbDme16"
      },
      "source": [
        "### with poly kernel"
      ]
    },
    {
      "cell_type": "code",
      "metadata": {
        "id": "7L9wqsMCmrJ9"
      },
      "source": [
        "clf = make_pipeline(StandardScaler(), SVC(gamma = 'auto', kernel = 'poly'))"
      ],
      "execution_count": null,
      "outputs": []
    },
    {
      "cell_type": "code",
      "metadata": {
        "id": "OYADJIF0muHu"
      },
      "source": [
        "clf.fit(train_x, train_y)\n",
        "pred = clf.predict(train_x)"
      ],
      "execution_count": null,
      "outputs": []
    },
    {
      "cell_type": "code",
      "metadata": {
        "colab": {
          "base_uri": "https://localhost:8080/"
        },
        "id": "3zPjB-U1mvLT",
        "outputId": "897ef65f-403b-4479-c6d1-3f9e99a82626"
      },
      "source": [
        "print(classification_report(pred, train_y))"
      ],
      "execution_count": null,
      "outputs": [
        {
          "output_type": "stream",
          "text": [
            "              precision    recall  f1-score   support\n",
            "\n",
            "           0       0.97      1.00      0.98       484\n",
            "           1       0.99      0.96      0.97       514\n",
            "           2       0.99      0.94      0.96       527\n",
            "           3       0.95      1.00      0.97       475\n",
            "\n",
            "    accuracy                           0.97      2000\n",
            "   macro avg       0.97      0.97      0.97      2000\n",
            "weighted avg       0.97      0.97      0.97      2000\n",
            "\n"
          ],
          "name": "stdout"
        }
      ]
    },
    {
      "cell_type": "markdown",
      "metadata": {
        "id": "JGQFtX5Tmwen"
      },
      "source": [
        "### with sigmoid kernel"
      ]
    },
    {
      "cell_type": "code",
      "metadata": {
        "id": "v2kWXhSVm8EU"
      },
      "source": [
        "clf = make_pipeline(StandardScaler(), SVC(gamma = 'auto', kernel = 'sigmoid'))"
      ],
      "execution_count": null,
      "outputs": []
    },
    {
      "cell_type": "code",
      "metadata": {
        "id": "yfGKiAZBm-I0"
      },
      "source": [
        "clf.fit(train_x, train_y)\n",
        "pred = clf.predict(train_x)"
      ],
      "execution_count": null,
      "outputs": []
    },
    {
      "cell_type": "code",
      "metadata": {
        "colab": {
          "base_uri": "https://localhost:8080/"
        },
        "id": "0kPoRSOEm_fh",
        "outputId": "c6177570-6ab8-471e-e210-324f70640590"
      },
      "source": [
        "print(classification_report(pred, train_y))"
      ],
      "execution_count": null,
      "outputs": [
        {
          "output_type": "stream",
          "text": [
            "              precision    recall  f1-score   support\n",
            "\n",
            "           0       0.91      0.92      0.92       494\n",
            "           1       0.85      0.82      0.83       519\n",
            "           2       0.82      0.82      0.82       498\n",
            "           3       0.90      0.92      0.91       489\n",
            "\n",
            "    accuracy                           0.87      2000\n",
            "   macro avg       0.87      0.87      0.87      2000\n",
            "weighted avg       0.87      0.87      0.87      2000\n",
            "\n"
          ],
          "name": "stdout"
        }
      ]
    },
    {
      "cell_type": "markdown",
      "metadata": {
        "id": "mMFxb8gMnAcW"
      },
      "source": [
        "### soft-margin vs hard-margin"
      ]
    },
    {
      "cell_type": "markdown",
      "metadata": {
        "id": "OK1QMYx_uY0p"
      },
      "source": [
        "#### soft-margin"
      ]
    },
    {
      "cell_type": "code",
      "metadata": {
        "colab": {
          "base_uri": "https://localhost:8080/"
        },
        "id": "kLYjUvMDoAOx",
        "outputId": "31453352-8cdb-4619-c07c-b4a7d076ae2b"
      },
      "source": [
        "clf = make_pipeline(StandardScaler(), SVC(gamma = 'auto', kernel = 'linear'))\n",
        "clf.fit(train_x, train_y)\n",
        "pred = clf.predict(train_x)\n",
        "print(classification_report(pred, train_y))"
      ],
      "execution_count": null,
      "outputs": [
        {
          "output_type": "stream",
          "text": [
            "              precision    recall  f1-score   support\n",
            "\n",
            "           0       0.99      0.99      0.99       501\n",
            "           1       0.98      0.98      0.98       500\n",
            "           2       0.96      0.98      0.97       493\n",
            "           3       0.99      0.98      0.98       506\n",
            "\n",
            "    accuracy                           0.98      2000\n",
            "   macro avg       0.98      0.98      0.98      2000\n",
            "weighted avg       0.98      0.98      0.98      2000\n",
            "\n"
          ],
          "name": "stdout"
        }
      ]
    },
    {
      "cell_type": "markdown",
      "metadata": {
        "id": "69_gA0nKude3"
      },
      "source": [
        "#### hard-margin"
      ]
    },
    {
      "cell_type": "code",
      "metadata": {
        "colab": {
          "base_uri": "https://localhost:8080/"
        },
        "id": "j0Ybq4iYuhwa",
        "outputId": "93fecf74-8a31-468a-b75a-7ed507b2bcc5"
      },
      "source": [
        "clf = make_pipeline(StandardScaler(), SVC(gamma = 'auto', kernel = 'linear', C = 100000))\n",
        "clf.fit(train_x, train_y)\n",
        "pred = clf.predict(train_x)\n",
        "print(classification_report(pred, train_y))"
      ],
      "execution_count": null,
      "outputs": [
        {
          "output_type": "stream",
          "text": [
            "              precision    recall  f1-score   support\n",
            "\n",
            "           0       1.00      1.00      1.00       500\n",
            "           1       0.99      1.00      0.99       499\n",
            "           2       0.99      0.99      0.99       500\n",
            "           3       0.99      0.99      0.99       501\n",
            "\n",
            "    accuracy                           0.99      2000\n",
            "   macro avg       0.99      0.99      0.99      2000\n",
            "weighted avg       0.99      0.99      0.99      2000\n",
            "\n"
          ],
          "name": "stdout"
        }
      ]
    },
    {
      "cell_type": "markdown",
      "metadata": {
        "id": "s6Wemu2Ixa6F"
      },
      "source": [
        "### Feature engineering"
      ]
    },
    {
      "cell_type": "markdown",
      "metadata": {
        "id": "mEqz78HBxeC6"
      },
      "source": [
        "#### binning batter_power"
      ]
    },
    {
      "cell_type": "code",
      "metadata": {
        "id": "3sBGtfAPx2Qo"
      },
      "source": [
        "sns.set()"
      ],
      "execution_count": 5,
      "outputs": []
    },
    {
      "cell_type": "code",
      "metadata": {
        "colab": {
          "base_uri": "https://localhost:8080/"
        },
        "id": "UzLLkrGuyQbR",
        "outputId": "ce92eb49-4feb-4fab-baa0-cf239c2cce4a"
      },
      "source": [
        "train_x['battery_power'].describe()"
      ],
      "execution_count": 6,
      "outputs": [
        {
          "output_type": "execute_result",
          "data": {
            "text/plain": [
              "count    2000.000000\n",
              "mean     1238.518500\n",
              "std       439.418206\n",
              "min       501.000000\n",
              "25%       851.750000\n",
              "50%      1226.000000\n",
              "75%      1615.250000\n",
              "max      1998.000000\n",
              "Name: battery_power, dtype: float64"
            ]
          },
          "metadata": {
            "tags": []
          },
          "execution_count": 6
        }
      ]
    },
    {
      "cell_type": "code",
      "metadata": {
        "id": "YcSmUHfEzWVo"
      },
      "source": [
        "min_value = train_x['battery_power'].max()\n",
        "max_value = train_x['battery_power'].min()"
      ],
      "execution_count": 7,
      "outputs": []
    },
    {
      "cell_type": "code",
      "metadata": {
        "colab": {
          "base_uri": "https://localhost:8080/",
          "height": 382
        },
        "id": "obLCbYBnur51",
        "outputId": "e6439adf-b828-49e2-e8ab-b35cf0c020df"
      },
      "source": [
        "sns.displot(train_x, x = 'battery_power', kind = 'kde')"
      ],
      "execution_count": 8,
      "outputs": [
        {
          "output_type": "execute_result",
          "data": {
            "text/plain": [
              "<seaborn.axisgrid.FacetGrid at 0x7fd3e23f61d0>"
            ]
          },
          "metadata": {
            "tags": []
          },
          "execution_count": 8
        },
        {
          "output_type": "display_data",
          "data": {
            "image/png": "[encoded data removed]",
            "text/plain": [
              "<Figure size 360x360 with 1 Axes>"
            ]
          },
          "metadata": {
            "tags": []
          }
        }
      ]
    },
    {
      "cell_type": "code",
      "metadata": {
        "id": "QxA7rkoAw0b9"
      },
      "source": [
        "bins = np.linspace(max_value, min_value, 4)"
      ],
      "execution_count": 9,
      "outputs": []
    },
    {
      "cell_type": "code",
      "metadata": {
        "id": "J2_cAOBazgxp"
      },
      "source": [
        "labels = ['bin1', 'bin2', 'bin3']"
      ],
      "execution_count": 10,
      "outputs": []
    },
    {
      "cell_type": "code",
      "metadata": {
        "id": "zdXortd5zhkt"
      },
      "source": [
        "train_x['battery_power_bin'] = pd.cut(train_x['battery_power'], bins=bins, labels=labels, include_lowest=True)"
      ],
      "execution_count": 11,
      "outputs": []
    },
    {
      "cell_type": "code",
      "metadata": {
        "colab": {
          "base_uri": "https://localhost:8080/"
        },
        "id": "d5sAliX80cI9",
        "outputId": "39c43378-80fe-496a-8cbd-1762a4fdc3e4"
      },
      "source": [
        "train_x['battery_power_bin'].unique()"
      ],
      "execution_count": 12,
      "outputs": [
        {
          "output_type": "execute_result",
          "data": {
            "text/plain": [
              "['bin1', 'bin2', 'bin3']\n",
              "Categories (3, object): ['bin1' < 'bin2' < 'bin3']"
            ]
          },
          "metadata": {
            "tags": []
          },
          "execution_count": 12
        }
      ]
    },
    {
      "cell_type": "code",
      "metadata": {
        "colab": {
          "base_uri": "https://localhost:8080/",
          "height": 319
        },
        "id": "hBHGB8Ro1pDu",
        "outputId": "7cfe35e4-6c6d-4a1b-bac0-d8d950471af0"
      },
      "source": [
        "plt.hist(train_x['battery_power_bin'], bins=3)"
      ],
      "execution_count": 13,
      "outputs": [
        {
          "output_type": "execute_result",
          "data": {
            "text/plain": [
              "(array([697., 641., 662.]),\n",
              " array([0.        , 0.66666667, 1.33333333, 2.        ]),\n",
              " <a list of 3 Patch objects>)"
            ]
          },
          "metadata": {
            "tags": []
          },
          "execution_count": 13
        },
        {
          "output_type": "display_data",
          "data": {
            "image/png": "[encoded data removed]",
            "text/plain": [
              "<Figure size 432x288 with 1 Axes>"
            ]
          },
          "metadata": {
            "tags": []
          }
        }
      ]
    },
    {
      "cell_type": "markdown",
      "metadata": {
        "id": "sygnlEa02ST2"
      },
      "source": [
        "#### one-hot encoding"
      ]
    },
    {
      "cell_type": "code",
      "metadata": {
        "id": "iRfa8MrC2qTE"
      },
      "source": [
        "train_x.drop(columns = ['battery_power'], inplace = True)"
      ],
      "execution_count": 14,
      "outputs": []
    },
    {
      "cell_type": "code",
      "metadata": {
        "colab": {
          "base_uri": "https://localhost:8080/"
        },
        "id": "VcjwqoGR3C4M",
        "outputId": "3587c15e-4755-4e99-ca96-34762293f974"
      },
      "source": [
        "train_x.dtypes"
      ],
      "execution_count": 17,
      "outputs": [
        {
          "output_type": "execute_result",
          "data": {
            "text/plain": [
              "blue                    int64\n",
              "clock_speed           float64\n",
              "dual_sim                int64\n",
              "fc                      int64\n",
              "four_g                  int64\n",
              "int_memory              int64\n",
              "m_dep                 float64\n",
              "mobile_wt               int64\n",
              "n_cores                 int64\n",
              "pc                      int64\n",
              "px_height               int64\n",
              "px_width                int64\n",
              "ram                     int64\n",
              "sc_h                    int64\n",
              "sc_w                    int64\n",
              "talk_time               int64\n",
              "three_g                 int64\n",
              "touch_screen            int64\n",
              "wifi                    int64\n",
              "battery_power_bin    category\n",
              "dtype: object"
            ]
          },
          "metadata": {
            "tags": []
          },
          "execution_count": 17
        }
      ]
    },
    {
      "cell_type": "markdown",
      "metadata": {
        "id": "7b6HGrN9A7-I"
      },
      "source": [
        "#### categorical feature"
      ]
    },
    {
      "cell_type": "markdown",
      "metadata": {
        "id": "t3bbYntVAEsp"
      },
      "source": [
        "battery_power_bin - wifi - blue - dual_sim - four_g - touch_screen"
      ]
    },
    {
      "cell_type": "markdown",
      "metadata": {
        "id": "ALwBt6DaMrDj"
      },
      "source": [
        "### battery one-hot"
      ]
    },
    {
      "cell_type": "code",
      "metadata": {
        "id": "_vqZCc-MMnB1"
      },
      "source": [
        "battery_dummies = pd.get_dummies(train_x['battery_power_bin'], prefix='battery')\n",
        "train_x = pd.concat([train_x, battery_dummies], axis = 1)"
      ],
      "execution_count": 18,
      "outputs": []
    },
    {
      "cell_type": "code",
      "metadata": {
        "id": "-Iwb4VLfOYF4"
      },
      "source": [
        "train_x.drop(columns = ['battery_power_bin'], inplace = True)"
      ],
      "execution_count": 19,
      "outputs": []
    },
    {
      "cell_type": "code",
      "metadata": {
        "colab": {
          "base_uri": "https://localhost:8080/"
        },
        "id": "Te8ksakqMm-_",
        "outputId": "4cf56873-b74c-4344-ae8c-ea1f5d45c900"
      },
      "source": [
        "clf = make_pipeline(StandardScaler(), SVC(gamma = 'auto', kernel = 'linear'))\n",
        "clf.fit(train_x, train_y)\n",
        "pred = clf.predict(train_x)\n",
        "print(classification_report(pred, train_y))"
      ],
      "execution_count": 24,
      "outputs": [
        {
          "output_type": "stream",
          "text": [
            "              precision    recall  f1-score   support\n",
            "\n",
            "           0       0.97      0.97      0.97       499\n",
            "           1       0.93      0.92      0.92       506\n",
            "           2       0.92      0.93      0.92       499\n",
            "           3       0.96      0.97      0.97       496\n",
            "\n",
            "    accuracy                           0.95      2000\n",
            "   macro avg       0.95      0.95      0.95      2000\n",
            "weighted avg       0.95      0.95      0.95      2000\n",
            "\n"
          ],
          "name": "stdout"
        }
      ]
    },
    {
      "cell_type": "markdown",
      "metadata": {
        "id": "8H5wOj2yNI75"
      },
      "source": [
        "### wifi one-hot"
      ]
    },
    {
      "cell_type": "code",
      "metadata": {
        "id": "MDNQ_nLaNIyh",
        "colab": {
          "base_uri": "https://localhost:8080/",
          "height": 595
        },
        "outputId": "2be1e58c-fa37-449a-b0a6-4d1425149a89"
      },
      "source": [
        "wifi_dummies = pd.get_dummies(train_x['wifi'], prefix='wifi')\n",
        "train_x.drop(columns = ['wifi'], inplace = True)"
      ],
      "execution_count": 25,
      "outputs": [
        {
          "output_type": "error",
          "ename": "KeyError",
          "evalue": "ignored",
          "traceback": [
            "\u001b[0;31m---------------------------------------------------------------------------\u001b[0m",
            "\u001b[0;31mKeyError\u001b[0m                                  Traceback (most recent call last)",
            "\u001b[0;32m/usr/local/lib/python3.7/dist-packages/pandas/core/indexes/base.py\u001b[0m in \u001b[0;36mget_loc\u001b[0;34m(self, key, method, tolerance)\u001b[0m\n\u001b[1;32m   2897\u001b[0m             \u001b[0;32mtry\u001b[0m\u001b[0;34m:\u001b[0m\u001b[0;34m\u001b[0m\u001b[0;34m\u001b[0m\u001b[0m\n\u001b[0;32m-> 2898\u001b[0;31m                 \u001b[0;32mreturn\u001b[0m \u001b[0mself\u001b[0m\u001b[0;34m.\u001b[0m\u001b[0m_engine\u001b[0m\u001b[0;34m.\u001b[0m\u001b[0mget_loc\u001b[0m\u001b[0;34m(\u001b[0m\u001b[0mcasted_key\u001b[0m\u001b[0;34m)\u001b[0m\u001b[0;34m\u001b[0m\u001b[0;34m\u001b[0m\u001b[0m\n\u001b[0m\u001b[1;32m   2899\u001b[0m             \u001b[0;32mexcept\u001b[0m \u001b[0mKeyError\u001b[0m \u001b[0;32mas\u001b[0m \u001b[0merr\u001b[0m\u001b[0;34m:\u001b[0m\u001b[0;34m\u001b[0m\u001b[0;34m\u001b[0m\u001b[0m\n",
            "\u001b[0;32mpandas/_libs/index.pyx\u001b[0m in \u001b[0;36mpandas._libs.index.IndexEngine.get_loc\u001b[0;34m()\u001b[0m\n",
            "\u001b[0;32mpandas/_libs/index.pyx\u001b[0m in \u001b[0;36mpandas._libs.index.IndexEngine.get_loc\u001b[0;34m()\u001b[0m\n",
            "\u001b[0;32mpandas/_libs/hashtable_class_helper.pxi\u001b[0m in \u001b[0;36mpandas._libs.hashtable.PyObjectHashTable.get_item\u001b[0;34m()\u001b[0m\n",
            "\u001b[0;32mpandas/_libs/hashtable_class_helper.pxi\u001b[0m in \u001b[0;36mpandas._libs.hashtable.PyObjectHashTable.get_item\u001b[0;34m()\u001b[0m\n",
            "\u001b[0;31mKeyError\u001b[0m: 'wifi'",
            "\nThe above exception was the direct cause of the following exception:\n",
            "\u001b[0;31mKeyError\u001b[0m                                  Traceback (most recent call last)",
            "\u001b[0;32m<ipython-input-25-853fe1869918>\u001b[0m in \u001b[0;36m<module>\u001b[0;34m()\u001b[0m\n\u001b[0;32m----> 1\u001b[0;31m \u001b[0mwifi_dummies\u001b[0m \u001b[0;34m=\u001b[0m \u001b[0mpd\u001b[0m\u001b[0;34m.\u001b[0m\u001b[0mget_dummies\u001b[0m\u001b[0;34m(\u001b[0m\u001b[0mtrain_x\u001b[0m\u001b[0;34m[\u001b[0m\u001b[0;34m'wifi'\u001b[0m\u001b[0;34m]\u001b[0m\u001b[0;34m,\u001b[0m \u001b[0mprefix\u001b[0m\u001b[0;34m=\u001b[0m\u001b[0;34m'wifi'\u001b[0m\u001b[0;34m)\u001b[0m\u001b[0;34m\u001b[0m\u001b[0;34m\u001b[0m\u001b[0m\n\u001b[0m\u001b[1;32m      2\u001b[0m \u001b[0mtrain_x\u001b[0m\u001b[0;34m.\u001b[0m\u001b[0mdrop\u001b[0m\u001b[0;34m(\u001b[0m\u001b[0mcolumns\u001b[0m \u001b[0;34m=\u001b[0m \u001b[0;34m[\u001b[0m\u001b[0;34m'wifi'\u001b[0m\u001b[0;34m]\u001b[0m\u001b[0;34m,\u001b[0m \u001b[0minplace\u001b[0m \u001b[0;34m=\u001b[0m \u001b[0;32mTrue\u001b[0m\u001b[0;34m)\u001b[0m\u001b[0;34m\u001b[0m\u001b[0;34m\u001b[0m\u001b[0m\n",
            "\u001b[0;32m/usr/local/lib/python3.7/dist-packages/pandas/core/frame.py\u001b[0m in \u001b[0;36m__getitem__\u001b[0;34m(self, key)\u001b[0m\n\u001b[1;32m   2904\u001b[0m             \u001b[0;32mif\u001b[0m \u001b[0mself\u001b[0m\u001b[0;34m.\u001b[0m\u001b[0mcolumns\u001b[0m\u001b[0;34m.\u001b[0m\u001b[0mnlevels\u001b[0m \u001b[0;34m>\u001b[0m \u001b[0;36m1\u001b[0m\u001b[0;34m:\u001b[0m\u001b[0;34m\u001b[0m\u001b[0;34m\u001b[0m\u001b[0m\n\u001b[1;32m   2905\u001b[0m                 \u001b[0;32mreturn\u001b[0m \u001b[0mself\u001b[0m\u001b[0;34m.\u001b[0m\u001b[0m_getitem_multilevel\u001b[0m\u001b[0;34m(\u001b[0m\u001b[0mkey\u001b[0m\u001b[0;34m)\u001b[0m\u001b[0;34m\u001b[0m\u001b[0;34m\u001b[0m\u001b[0m\n\u001b[0;32m-> 2906\u001b[0;31m             \u001b[0mindexer\u001b[0m \u001b[0;34m=\u001b[0m \u001b[0mself\u001b[0m\u001b[0;34m.\u001b[0m\u001b[0mcolumns\u001b[0m\u001b[0;34m.\u001b[0m\u001b[0mget_loc\u001b[0m\u001b[0;34m(\u001b[0m\u001b[0mkey\u001b[0m\u001b[0;34m)\u001b[0m\u001b[0;34m\u001b[0m\u001b[0;34m\u001b[0m\u001b[0m\n\u001b[0m\u001b[1;32m   2907\u001b[0m             \u001b[0;32mif\u001b[0m \u001b[0mis_integer\u001b[0m\u001b[0;34m(\u001b[0m\u001b[0mindexer\u001b[0m\u001b[0;34m)\u001b[0m\u001b[0;34m:\u001b[0m\u001b[0;34m\u001b[0m\u001b[0;34m\u001b[0m\u001b[0m\n\u001b[1;32m   2908\u001b[0m                 \u001b[0mindexer\u001b[0m \u001b[0;34m=\u001b[0m \u001b[0;34m[\u001b[0m\u001b[0mindexer\u001b[0m\u001b[0;34m]\u001b[0m\u001b[0;34m\u001b[0m\u001b[0;34m\u001b[0m\u001b[0m\n",
            "\u001b[0;32m/usr/local/lib/python3.7/dist-packages/pandas/core/indexes/base.py\u001b[0m in \u001b[0;36mget_loc\u001b[0;34m(self, key, method, tolerance)\u001b[0m\n\u001b[1;32m   2898\u001b[0m                 \u001b[0;32mreturn\u001b[0m \u001b[0mself\u001b[0m\u001b[0;34m.\u001b[0m\u001b[0m_engine\u001b[0m\u001b[0;34m.\u001b[0m\u001b[0mget_loc\u001b[0m\u001b[0;34m(\u001b[0m\u001b[0mcasted_key\u001b[0m\u001b[0;34m)\u001b[0m\u001b[0;34m\u001b[0m\u001b[0;34m\u001b[0m\u001b[0m\n\u001b[1;32m   2899\u001b[0m             \u001b[0;32mexcept\u001b[0m \u001b[0mKeyError\u001b[0m \u001b[0;32mas\u001b[0m \u001b[0merr\u001b[0m\u001b[0;34m:\u001b[0m\u001b[0;34m\u001b[0m\u001b[0;34m\u001b[0m\u001b[0m\n\u001b[0;32m-> 2900\u001b[0;31m                 \u001b[0;32mraise\u001b[0m \u001b[0mKeyError\u001b[0m\u001b[0;34m(\u001b[0m\u001b[0mkey\u001b[0m\u001b[0;34m)\u001b[0m \u001b[0;32mfrom\u001b[0m \u001b[0merr\u001b[0m\u001b[0;34m\u001b[0m\u001b[0;34m\u001b[0m\u001b[0m\n\u001b[0m\u001b[1;32m   2901\u001b[0m \u001b[0;34m\u001b[0m\u001b[0m\n\u001b[1;32m   2902\u001b[0m         \u001b[0;32mif\u001b[0m \u001b[0mtolerance\u001b[0m \u001b[0;32mis\u001b[0m \u001b[0;32mnot\u001b[0m \u001b[0;32mNone\u001b[0m\u001b[0;34m:\u001b[0m\u001b[0;34m\u001b[0m\u001b[0;34m\u001b[0m\u001b[0m\n",
            "\u001b[0;31mKeyError\u001b[0m: 'wifi'"
          ]
        }
      ]
    },
    {
      "cell_type": "code",
      "metadata": {
        "colab": {
          "base_uri": "https://localhost:8080/"
        },
        "id": "4okYt9vw3Mnu",
        "outputId": "c247f7c3-2673-489e-a60a-dc342f163b2c"
      },
      "source": [
        "clf = make_pipeline(StandardScaler(), SVC(gamma = 'auto', kernel = 'linear'))\n",
        "clf.fit(train_x, train_y)\n",
        "pred = clf.predict(train_x)\n",
        "print(classification_report(pred, train_y))"
      ],
      "execution_count": 26,
      "outputs": [
        {
          "output_type": "stream",
          "text": [
            "              precision    recall  f1-score   support\n",
            "\n",
            "           0       0.97      0.97      0.97       499\n",
            "           1       0.93      0.92      0.92       506\n",
            "           2       0.92      0.93      0.92       499\n",
            "           3       0.96      0.97      0.97       496\n",
            "\n",
            "    accuracy                           0.95      2000\n",
            "   macro avg       0.95      0.95      0.95      2000\n",
            "weighted avg       0.95      0.95      0.95      2000\n",
            "\n"
          ],
          "name": "stdout"
        }
      ]
    },
    {
      "cell_type": "markdown",
      "metadata": {
        "id": "XfDDW2WXMXwv"
      },
      "source": [
        "### blue one-hot"
      ]
    },
    {
      "cell_type": "code",
      "metadata": {
        "id": "WvcdFY6_MXtx"
      },
      "source": [
        "blue_dummies = pd.get_dummies(train_x['blue'], prefix='blue')\n",
        "train_x.drop(columns = ['blue'], inplace = True)"
      ],
      "execution_count": 27,
      "outputs": []
    },
    {
      "cell_type": "code",
      "metadata": {
        "colab": {
          "base_uri": "https://localhost:8080/"
        },
        "id": "Wz6pP3HhMXrA",
        "outputId": "4ce5d82b-c97b-4c68-b670-1f5aaa4fba28"
      },
      "source": [
        "clf = make_pipeline(StandardScaler(), SVC(gamma = 'auto', kernel = 'linear'))\n",
        "clf.fit(train_x, train_y)\n",
        "pred = clf.predict(train_x)\n",
        "print(classification_report(pred, train_y))"
      ],
      "execution_count": 28,
      "outputs": [
        {
          "output_type": "stream",
          "text": [
            "              precision    recall  f1-score   support\n",
            "\n",
            "           0       0.97      0.96      0.97       501\n",
            "           1       0.92      0.92      0.92       500\n",
            "           2       0.93      0.92      0.93       504\n",
            "           3       0.96      0.97      0.97       495\n",
            "\n",
            "    accuracy                           0.95      2000\n",
            "   macro avg       0.95      0.95      0.95      2000\n",
            "weighted avg       0.95      0.95      0.95      2000\n",
            "\n"
          ],
          "name": "stdout"
        }
      ]
    },
    {
      "cell_type": "markdown",
      "metadata": {
        "id": "-6vFsfr-MXob"
      },
      "source": [
        "### dual_sim one-hot"
      ]
    },
    {
      "cell_type": "code",
      "metadata": {
        "id": "UxwuEqqbQLn4"
      },
      "source": [
        "dual_sim_dummies = pd.get_dummies(train_x['dual_sim'], prefix='dual_sim')\n",
        "train_x.drop(columns = ['dual_sim'], inplace = True)"
      ],
      "execution_count": 29,
      "outputs": []
    },
    {
      "cell_type": "code",
      "metadata": {
        "colab": {
          "base_uri": "https://localhost:8080/"
        },
        "id": "gn8msVnVQnK-",
        "outputId": "ecacbad2-8e89-48bf-b0ec-2c181a6b3c55"
      },
      "source": [
        "clf = make_pipeline(StandardScaler(), SVC(gamma = 'auto', kernel = 'linear'))\n",
        "clf.fit(train_x, train_y)\n",
        "pred = clf.predict(train_x)\n",
        "print(classification_report(pred, train_y))"
      ],
      "execution_count": 30,
      "outputs": [
        {
          "output_type": "stream",
          "text": [
            "              precision    recall  f1-score   support\n",
            "\n",
            "           0       0.96      0.96      0.96       501\n",
            "           1       0.92      0.92      0.92       502\n",
            "           2       0.92      0.92      0.92       500\n",
            "           3       0.96      0.97      0.97       497\n",
            "\n",
            "    accuracy                           0.94      2000\n",
            "   macro avg       0.94      0.94      0.94      2000\n",
            "weighted avg       0.94      0.94      0.94      2000\n",
            "\n"
          ],
          "name": "stdout"
        }
      ]
    },
    {
      "cell_type": "markdown",
      "metadata": {
        "id": "N3RJn7LRQyo8"
      },
      "source": [
        "### four_g"
      ]
    },
    {
      "cell_type": "code",
      "metadata": {
        "id": "0L6or9wzQz6X"
      },
      "source": [
        "four_g_dummies = pd.get_dummies(train_x['four_g'], prefix='four_g')\n",
        "train_x.drop(columns = ['four_g'], inplace = True)"
      ],
      "execution_count": 31,
      "outputs": []
    },
    {
      "cell_type": "code",
      "metadata": {
        "colab": {
          "base_uri": "https://localhost:8080/"
        },
        "id": "ouo5z8qWQ8VJ",
        "outputId": "ee038063-85e8-415b-8d6d-aff7b47daa67"
      },
      "source": [
        "clf = make_pipeline(StandardScaler(), SVC(gamma = 'auto', kernel = 'linear'))\n",
        "clf.fit(train_x, train_y)\n",
        "pred = clf.predict(train_x)\n",
        "print(classification_report(pred, train_y))"
      ],
      "execution_count": 32,
      "outputs": [
        {
          "output_type": "stream",
          "text": [
            "              precision    recall  f1-score   support\n",
            "\n",
            "           0       0.97      0.96      0.97       503\n",
            "           1       0.93      0.92      0.93       501\n",
            "           2       0.93      0.93      0.93       497\n",
            "           3       0.97      0.97      0.97       499\n",
            "\n",
            "    accuracy                           0.95      2000\n",
            "   macro avg       0.95      0.95      0.95      2000\n",
            "weighted avg       0.95      0.95      0.95      2000\n",
            "\n"
          ],
          "name": "stdout"
        }
      ]
    },
    {
      "cell_type": "markdown",
      "metadata": {
        "id": "pMywoC5jRLzK"
      },
      "source": [
        "### touch_screen one-hot"
      ]
    },
    {
      "cell_type": "code",
      "metadata": {
        "id": "1Z0ZloQDRRl5"
      },
      "source": [
        "touch_dummies = pd.get_dummies(train_x['touch_screen'], prefix='touch')\n",
        "train_x.drop(columns = ['touch_screen'], inplace = True)"
      ],
      "execution_count": 33,
      "outputs": []
    },
    {
      "cell_type": "code",
      "metadata": {
        "colab": {
          "base_uri": "https://localhost:8080/"
        },
        "id": "FTflFzUDRXkr",
        "outputId": "84334b46-3fb0-4ba4-e0f7-87c79136e728"
      },
      "source": [
        "clf = make_pipeline(StandardScaler(), SVC(gamma = 'auto', kernel = 'linear'))\n",
        "clf.fit(train_x, train_y)\n",
        "pred = clf.predict(train_x)\n",
        "print(classification_report(pred, train_y))"
      ],
      "execution_count": 34,
      "outputs": [
        {
          "output_type": "stream",
          "text": [
            "              precision    recall  f1-score   support\n",
            "\n",
            "           0       0.97      0.96      0.97       505\n",
            "           1       0.92      0.92      0.92       499\n",
            "           2       0.92      0.93      0.92       497\n",
            "           3       0.97      0.97      0.97       499\n",
            "\n",
            "    accuracy                           0.94      2000\n",
            "   macro avg       0.95      0.94      0.94      2000\n",
            "weighted avg       0.95      0.94      0.95      2000\n",
            "\n"
          ],
          "name": "stdout"
        }
      ]
    },
    {
      "cell_type": "code",
      "metadata": {
        "id": "4dXaNXrbFDmw"
      },
      "source": [
        "train_x = pd.concat([train_x, blue_dummies, dual_sim_dummies, battery_dummies, four_g_dummies, touch_dummies], axis = 1)"
      ],
      "execution_count": 35,
      "outputs": []
    },
    {
      "cell_type": "code",
      "metadata": {
        "id": "HbqGiw8wFOs6"
      },
      "source": [
        "# train_x.drop(columns = ['battery_power_bin', 'wifi', 'blue', 'dual_sim', 'four_g', 'touch_screen'], inplace= True)"
      ],
      "execution_count": null,
      "outputs": []
    },
    {
      "cell_type": "code",
      "metadata": {
        "colab": {
          "base_uri": "https://localhost:8080/",
          "height": 439
        },
        "id": "B0i7IkRGFPlO",
        "outputId": "40cef274-d2d6-458d-b939-2f23e59ee9b7"
      },
      "source": [
        "train_x"
      ],
      "execution_count": 36,
      "outputs": [
        {
          "output_type": "execute_result",
          "data": {
            "text/html": [
              "<div>\n",
              "<style scoped>\n",
              "    .dataframe tbody tr th:only-of-type {\n",
              "        vertical-align: middle;\n",
              "    }\n",
              "\n",
              "    .dataframe tbody tr th {\n",
              "        vertical-align: top;\n",
              "    }\n",
              "\n",
              "    .dataframe thead th {\n",
              "        text-align: right;\n",
              "    }\n",
              "</style>\n",
              "<table border=\"1\" class=\"dataframe\">\n",
              "  <thead>\n",
              "    <tr style=\"text-align: right;\">\n",
              "      <th></th>\n",
              "      <th>clock_speed</th>\n",
              "      <th>fc</th>\n",
              "      <th>int_memory</th>\n",
              "      <th>m_dep</th>\n",
              "      <th>mobile_wt</th>\n",
              "      <th>n_cores</th>\n",
              "      <th>pc</th>\n",
              "      <th>px_height</th>\n",
              "      <th>px_width</th>\n",
              "      <th>ram</th>\n",
              "      <th>sc_h</th>\n",
              "      <th>sc_w</th>\n",
              "      <th>talk_time</th>\n",
              "      <th>three_g</th>\n",
              "      <th>battery_bin1</th>\n",
              "      <th>battery_bin2</th>\n",
              "      <th>battery_bin3</th>\n",
              "      <th>blue_0</th>\n",
              "      <th>blue_1</th>\n",
              "      <th>dual_sim_0</th>\n",
              "      <th>dual_sim_1</th>\n",
              "      <th>battery_bin1</th>\n",
              "      <th>battery_bin2</th>\n",
              "      <th>battery_bin3</th>\n",
              "      <th>four_g_0</th>\n",
              "      <th>four_g_1</th>\n",
              "      <th>touch_0</th>\n",
              "      <th>touch_1</th>\n",
              "    </tr>\n",
              "  </thead>\n",
              "  <tbody>\n",
              "    <tr>\n",
              "      <th>0</th>\n",
              "      <td>2.2</td>\n",
              "      <td>1</td>\n",
              "      <td>7</td>\n",
              "      <td>0.6</td>\n",
              "      <td>188</td>\n",
              "      <td>2</td>\n",
              "      <td>2</td>\n",
              "      <td>20</td>\n",
              "      <td>756</td>\n",
              "      <td>2549</td>\n",
              "      <td>9</td>\n",
              "      <td>7</td>\n",
              "      <td>19</td>\n",
              "      <td>0</td>\n",
              "      <td>1</td>\n",
              "      <td>0</td>\n",
              "      <td>0</td>\n",
              "      <td>1</td>\n",
              "      <td>0</td>\n",
              "      <td>1</td>\n",
              "      <td>0</td>\n",
              "      <td>1</td>\n",
              "      <td>0</td>\n",
              "      <td>0</td>\n",
              "      <td>1</td>\n",
              "      <td>0</td>\n",
              "      <td>1</td>\n",
              "      <td>0</td>\n",
              "    </tr>\n",
              "    <tr>\n",
              "      <th>1</th>\n",
              "      <td>0.5</td>\n",
              "      <td>0</td>\n",
              "      <td>53</td>\n",
              "      <td>0.7</td>\n",
              "      <td>136</td>\n",
              "      <td>3</td>\n",
              "      <td>6</td>\n",
              "      <td>905</td>\n",
              "      <td>1988</td>\n",
              "      <td>2631</td>\n",
              "      <td>17</td>\n",
              "      <td>3</td>\n",
              "      <td>7</td>\n",
              "      <td>1</td>\n",
              "      <td>0</td>\n",
              "      <td>1</td>\n",
              "      <td>0</td>\n",
              "      <td>0</td>\n",
              "      <td>1</td>\n",
              "      <td>0</td>\n",
              "      <td>1</td>\n",
              "      <td>0</td>\n",
              "      <td>1</td>\n",
              "      <td>0</td>\n",
              "      <td>0</td>\n",
              "      <td>1</td>\n",
              "      <td>0</td>\n",
              "      <td>1</td>\n",
              "    </tr>\n",
              "    <tr>\n",
              "      <th>2</th>\n",
              "      <td>0.5</td>\n",
              "      <td>2</td>\n",
              "      <td>41</td>\n",
              "      <td>0.9</td>\n",
              "      <td>145</td>\n",
              "      <td>5</td>\n",
              "      <td>6</td>\n",
              "      <td>1263</td>\n",
              "      <td>1716</td>\n",
              "      <td>2603</td>\n",
              "      <td>11</td>\n",
              "      <td>2</td>\n",
              "      <td>9</td>\n",
              "      <td>1</td>\n",
              "      <td>1</td>\n",
              "      <td>0</td>\n",
              "      <td>0</td>\n",
              "      <td>0</td>\n",
              "      <td>1</td>\n",
              "      <td>0</td>\n",
              "      <td>1</td>\n",
              "      <td>1</td>\n",
              "      <td>0</td>\n",
              "      <td>0</td>\n",
              "      <td>0</td>\n",
              "      <td>1</td>\n",
              "      <td>0</td>\n",
              "      <td>1</td>\n",
              "    </tr>\n",
              "    <tr>\n",
              "      <th>3</th>\n",
              "      <td>2.5</td>\n",
              "      <td>0</td>\n",
              "      <td>10</td>\n",
              "      <td>0.8</td>\n",
              "      <td>131</td>\n",
              "      <td>6</td>\n",
              "      <td>9</td>\n",
              "      <td>1216</td>\n",
              "      <td>1786</td>\n",
              "      <td>2769</td>\n",
              "      <td>16</td>\n",
              "      <td>8</td>\n",
              "      <td>11</td>\n",
              "      <td>1</td>\n",
              "      <td>1</td>\n",
              "      <td>0</td>\n",
              "      <td>0</td>\n",
              "      <td>0</td>\n",
              "      <td>1</td>\n",
              "      <td>1</td>\n",
              "      <td>0</td>\n",
              "      <td>1</td>\n",
              "      <td>0</td>\n",
              "      <td>0</td>\n",
              "      <td>1</td>\n",
              "      <td>0</td>\n",
              "      <td>1</td>\n",
              "      <td>0</td>\n",
              "    </tr>\n",
              "    <tr>\n",
              "      <th>4</th>\n",
              "      <td>1.2</td>\n",
              "      <td>13</td>\n",
              "      <td>44</td>\n",
              "      <td>0.6</td>\n",
              "      <td>141</td>\n",
              "      <td>2</td>\n",
              "      <td>14</td>\n",
              "      <td>1208</td>\n",
              "      <td>1212</td>\n",
              "      <td>1411</td>\n",
              "      <td>8</td>\n",
              "      <td>2</td>\n",
              "      <td>15</td>\n",
              "      <td>1</td>\n",
              "      <td>0</td>\n",
              "      <td>0</td>\n",
              "      <td>1</td>\n",
              "      <td>0</td>\n",
              "      <td>1</td>\n",
              "      <td>1</td>\n",
              "      <td>0</td>\n",
              "      <td>0</td>\n",
              "      <td>0</td>\n",
              "      <td>1</td>\n",
              "      <td>0</td>\n",
              "      <td>1</td>\n",
              "      <td>0</td>\n",
              "      <td>1</td>\n",
              "    </tr>\n",
              "    <tr>\n",
              "      <th>...</th>\n",
              "      <td>...</td>\n",
              "      <td>...</td>\n",
              "      <td>...</td>\n",
              "      <td>...</td>\n",
              "      <td>...</td>\n",
              "      <td>...</td>\n",
              "      <td>...</td>\n",
              "      <td>...</td>\n",
              "      <td>...</td>\n",
              "      <td>...</td>\n",
              "      <td>...</td>\n",
              "      <td>...</td>\n",
              "      <td>...</td>\n",
              "      <td>...</td>\n",
              "      <td>...</td>\n",
              "      <td>...</td>\n",
              "      <td>...</td>\n",
              "      <td>...</td>\n",
              "      <td>...</td>\n",
              "      <td>...</td>\n",
              "      <td>...</td>\n",
              "      <td>...</td>\n",
              "      <td>...</td>\n",
              "      <td>...</td>\n",
              "      <td>...</td>\n",
              "      <td>...</td>\n",
              "      <td>...</td>\n",
              "      <td>...</td>\n",
              "    </tr>\n",
              "    <tr>\n",
              "      <th>1995</th>\n",
              "      <td>0.5</td>\n",
              "      <td>0</td>\n",
              "      <td>2</td>\n",
              "      <td>0.8</td>\n",
              "      <td>106</td>\n",
              "      <td>6</td>\n",
              "      <td>14</td>\n",
              "      <td>1222</td>\n",
              "      <td>1890</td>\n",
              "      <td>668</td>\n",
              "      <td>13</td>\n",
              "      <td>4</td>\n",
              "      <td>19</td>\n",
              "      <td>1</td>\n",
              "      <td>1</td>\n",
              "      <td>0</td>\n",
              "      <td>0</td>\n",
              "      <td>0</td>\n",
              "      <td>1</td>\n",
              "      <td>0</td>\n",
              "      <td>1</td>\n",
              "      <td>1</td>\n",
              "      <td>0</td>\n",
              "      <td>0</td>\n",
              "      <td>0</td>\n",
              "      <td>1</td>\n",
              "      <td>0</td>\n",
              "      <td>1</td>\n",
              "    </tr>\n",
              "    <tr>\n",
              "      <th>1996</th>\n",
              "      <td>2.6</td>\n",
              "      <td>0</td>\n",
              "      <td>39</td>\n",
              "      <td>0.2</td>\n",
              "      <td>187</td>\n",
              "      <td>4</td>\n",
              "      <td>3</td>\n",
              "      <td>915</td>\n",
              "      <td>1965</td>\n",
              "      <td>2032</td>\n",
              "      <td>11</td>\n",
              "      <td>10</td>\n",
              "      <td>16</td>\n",
              "      <td>1</td>\n",
              "      <td>0</td>\n",
              "      <td>0</td>\n",
              "      <td>1</td>\n",
              "      <td>0</td>\n",
              "      <td>1</td>\n",
              "      <td>0</td>\n",
              "      <td>1</td>\n",
              "      <td>0</td>\n",
              "      <td>0</td>\n",
              "      <td>1</td>\n",
              "      <td>1</td>\n",
              "      <td>0</td>\n",
              "      <td>0</td>\n",
              "      <td>1</td>\n",
              "    </tr>\n",
              "    <tr>\n",
              "      <th>1997</th>\n",
              "      <td>0.9</td>\n",
              "      <td>1</td>\n",
              "      <td>36</td>\n",
              "      <td>0.7</td>\n",
              "      <td>108</td>\n",
              "      <td>8</td>\n",
              "      <td>3</td>\n",
              "      <td>868</td>\n",
              "      <td>1632</td>\n",
              "      <td>3057</td>\n",
              "      <td>9</td>\n",
              "      <td>1</td>\n",
              "      <td>5</td>\n",
              "      <td>1</td>\n",
              "      <td>0</td>\n",
              "      <td>0</td>\n",
              "      <td>1</td>\n",
              "      <td>1</td>\n",
              "      <td>0</td>\n",
              "      <td>0</td>\n",
              "      <td>1</td>\n",
              "      <td>0</td>\n",
              "      <td>0</td>\n",
              "      <td>1</td>\n",
              "      <td>0</td>\n",
              "      <td>1</td>\n",
              "      <td>0</td>\n",
              "      <td>1</td>\n",
              "    </tr>\n",
              "    <tr>\n",
              "      <th>1998</th>\n",
              "      <td>0.9</td>\n",
              "      <td>4</td>\n",
              "      <td>46</td>\n",
              "      <td>0.1</td>\n",
              "      <td>145</td>\n",
              "      <td>5</td>\n",
              "      <td>5</td>\n",
              "      <td>336</td>\n",
              "      <td>670</td>\n",
              "      <td>869</td>\n",
              "      <td>18</td>\n",
              "      <td>10</td>\n",
              "      <td>19</td>\n",
              "      <td>1</td>\n",
              "      <td>0</td>\n",
              "      <td>0</td>\n",
              "      <td>1</td>\n",
              "      <td>1</td>\n",
              "      <td>0</td>\n",
              "      <td>1</td>\n",
              "      <td>0</td>\n",
              "      <td>0</td>\n",
              "      <td>0</td>\n",
              "      <td>1</td>\n",
              "      <td>0</td>\n",
              "      <td>1</td>\n",
              "      <td>0</td>\n",
              "      <td>1</td>\n",
              "    </tr>\n",
              "    <tr>\n",
              "      <th>1999</th>\n",
              "      <td>2.0</td>\n",
              "      <td>5</td>\n",
              "      <td>45</td>\n",
              "      <td>0.9</td>\n",
              "      <td>168</td>\n",
              "      <td>6</td>\n",
              "      <td>16</td>\n",
              "      <td>483</td>\n",
              "      <td>754</td>\n",
              "      <td>3919</td>\n",
              "      <td>19</td>\n",
              "      <td>4</td>\n",
              "      <td>2</td>\n",
              "      <td>1</td>\n",
              "      <td>1</td>\n",
              "      <td>0</td>\n",
              "      <td>0</td>\n",
              "      <td>0</td>\n",
              "      <td>1</td>\n",
              "      <td>0</td>\n",
              "      <td>1</td>\n",
              "      <td>1</td>\n",
              "      <td>0</td>\n",
              "      <td>0</td>\n",
              "      <td>0</td>\n",
              "      <td>1</td>\n",
              "      <td>0</td>\n",
              "      <td>1</td>\n",
              "    </tr>\n",
              "  </tbody>\n",
              "</table>\n",
              "<p>2000 rows × 28 columns</p>\n",
              "</div>"
            ],
            "text/plain": [
              "      clock_speed  fc  int_memory  m_dep  ...  four_g_0  four_g_1  touch_0  touch_1\n",
              "0             2.2   1           7    0.6  ...         1         0        1        0\n",
              "1             0.5   0          53    0.7  ...         0         1        0        1\n",
              "2             0.5   2          41    0.9  ...         0         1        0        1\n",
              "3             2.5   0          10    0.8  ...         1         0        1        0\n",
              "4             1.2  13          44    0.6  ...         0         1        0        1\n",
              "...           ...  ..         ...    ...  ...       ...       ...      ...      ...\n",
              "1995          0.5   0           2    0.8  ...         0         1        0        1\n",
              "1996          2.6   0          39    0.2  ...         1         0        0        1\n",
              "1997          0.9   1          36    0.7  ...         0         1        0        1\n",
              "1998          0.9   4          46    0.1  ...         0         1        0        1\n",
              "1999          2.0   5          45    0.9  ...         0         1        0        1\n",
              "\n",
              "[2000 rows x 28 columns]"
            ]
          },
          "metadata": {
            "tags": []
          },
          "execution_count": 36
        }
      ]
    },
    {
      "cell_type": "markdown",
      "metadata": {
        "id": "lnHE0SzrJfhK"
      },
      "source": [
        "### add area feature"
      ]
    },
    {
      "cell_type": "code",
      "metadata": {
        "id": "6jwBiEO7Lxlc"
      },
      "source": [
        "train_x['area'] = train_x['px_height'] * train_x['px_width']"
      ],
      "execution_count": 37,
      "outputs": []
    },
    {
      "cell_type": "code",
      "metadata": {
        "colab": {
          "base_uri": "https://localhost:8080/"
        },
        "id": "EaNd57lHRu4I",
        "outputId": "31a6670c-ccb0-4ccc-bfbb-6fdfaa96deba"
      },
      "source": [
        "clf = make_pipeline(StandardScaler(), SVC(gamma = 'auto', kernel = 'linear'))\n",
        "clf.fit(train_x, train_y)\n",
        "pred = clf.predict(train_x)\n",
        "print(classification_report(pred, train_y))"
      ],
      "execution_count": 38,
      "outputs": [
        {
          "output_type": "stream",
          "text": [
            "              precision    recall  f1-score   support\n",
            "\n",
            "           0       0.97      0.97      0.97       500\n",
            "           1       0.93      0.92      0.92       505\n",
            "           2       0.92      0.93      0.92       499\n",
            "           3       0.96      0.97      0.97       496\n",
            "\n",
            "    accuracy                           0.95      2000\n",
            "   macro avg       0.95      0.95      0.95      2000\n",
            "weighted avg       0.95      0.95      0.95      2000\n",
            "\n"
          ],
          "name": "stdout"
        }
      ]
    },
    {
      "cell_type": "markdown",
      "metadata": {
        "id": "lPea5FfpRw1g"
      },
      "source": [
        "### Decisoin tree"
      ]
    },
    {
      "cell_type": "code",
      "metadata": {
        "id": "d7YNrHQlfY8O"
      },
      "source": [
        "from sklearn import tree"
      ],
      "execution_count": null,
      "outputs": []
    },
    {
      "cell_type": "code",
      "metadata": {
        "id": "cH8uSVv3f34k"
      },
      "source": [
        "clf_tree = tree.DecisionTreeClassifier()"
      ],
      "execution_count": null,
      "outputs": []
    },
    {
      "cell_type": "code",
      "metadata": {
        "colab": {
          "base_uri": "https://localhost:8080/"
        },
        "id": "w8D5dnrtgPZo",
        "outputId": "1de2bfaf-7598-4768-a610-b6ebcc0cd5c3"
      },
      "source": [
        "clf_tree.fit(train_x, train_y)"
      ],
      "execution_count": null,
      "outputs": [
        {
          "output_type": "execute_result",
          "data": {
            "text/plain": [
              "DecisionTreeClassifier(ccp_alpha=0.0, class_weight=None, criterion='gini',\n",
              "                       max_depth=None, max_features=None, max_leaf_nodes=None,\n",
              "                       min_impurity_decrease=0.0, min_impurity_split=None,\n",
              "                       min_samples_leaf=1, min_samples_split=2,\n",
              "                       min_weight_fraction_leaf=0.0, presort='deprecated',\n",
              "                       random_state=None, splitter='best')"
            ]
          },
          "metadata": {
            "tags": []
          },
          "execution_count": 159
        }
      ]
    },
    {
      "cell_type": "code",
      "metadata": {
        "id": "A4lyUNZggSpc"
      },
      "source": [
        "pred = clf_tree.predict(train_x)"
      ],
      "execution_count": null,
      "outputs": []
    },
    {
      "cell_type": "code",
      "metadata": {
        "colab": {
          "base_uri": "https://localhost:8080/"
        },
        "id": "O2U2pm2rgbi9",
        "outputId": "bfbbf3fa-8c16-4e6a-cea7-a3224ae5428a"
      },
      "source": [
        "print(classification_report(pred, train_y))"
      ],
      "execution_count": null,
      "outputs": [
        {
          "output_type": "stream",
          "text": [
            "              precision    recall  f1-score   support\n",
            "\n",
            "           0       1.00      1.00      1.00       500\n",
            "           1       1.00      1.00      1.00       500\n",
            "           2       1.00      1.00      1.00       500\n",
            "           3       1.00      1.00      1.00       500\n",
            "\n",
            "    accuracy                           1.00      2000\n",
            "   macro avg       1.00      1.00      1.00      2000\n",
            "weighted avg       1.00      1.00      1.00      2000\n",
            "\n"
          ],
          "name": "stdout"
        }
      ]
    },
    {
      "cell_type": "markdown",
      "metadata": {
        "id": "xyNzEE7ghZJ6"
      },
      "source": [
        "### Random forest"
      ]
    },
    {
      "cell_type": "code",
      "metadata": {
        "id": "0ZUuXdxsj_lR"
      },
      "source": [
        "from sklearn.ensemble import RandomForestClassifier"
      ],
      "execution_count": null,
      "outputs": []
    },
    {
      "cell_type": "code",
      "metadata": {
        "id": "t8PppETtkHra"
      },
      "source": [
        " clf = RandomForestClassifier(random_state=0)"
      ],
      "execution_count": null,
      "outputs": []
    },
    {
      "cell_type": "code",
      "metadata": {
        "colab": {
          "base_uri": "https://localhost:8080/"
        },
        "id": "Y5Q6o-JbkLk3",
        "outputId": "0aab6055-5bda-4e05-b210-957f74c19f41"
      },
      "source": [
        "clf.fit(train_x, train_y)"
      ],
      "execution_count": null,
      "outputs": [
        {
          "output_type": "execute_result",
          "data": {
            "text/plain": [
              "RandomForestClassifier(bootstrap=True, ccp_alpha=0.0, class_weight=None,\n",
              "                       criterion='gini', max_depth=None, max_features='auto',\n",
              "                       max_leaf_nodes=None, max_samples=None,\n",
              "                       min_impurity_decrease=0.0, min_impurity_split=None,\n",
              "                       min_samples_leaf=1, min_samples_split=2,\n",
              "                       min_weight_fraction_leaf=0.0, n_estimators=100,\n",
              "                       n_jobs=None, oob_score=False, random_state=0, verbose=0,\n",
              "                       warm_start=False)"
            ]
          },
          "metadata": {
            "tags": []
          },
          "execution_count": 169
        }
      ]
    },
    {
      "cell_type": "code",
      "metadata": {
        "id": "48hObVqQkN7t"
      },
      "source": [
        "pred = clf.predict(train_x)"
      ],
      "execution_count": null,
      "outputs": []
    },
    {
      "cell_type": "code",
      "metadata": {
        "colab": {
          "base_uri": "https://localhost:8080/"
        },
        "id": "-Zv6MaHlkSWj",
        "outputId": "3d91be0a-3dc0-4972-a808-9760e16bf3d7"
      },
      "source": [
        "print(classification_report(pred, train_y))"
      ],
      "execution_count": null,
      "outputs": [
        {
          "output_type": "stream",
          "text": [
            "              precision    recall  f1-score   support\n",
            "\n",
            "           0       1.00      1.00      1.00       500\n",
            "           1       1.00      1.00      1.00       500\n",
            "           2       1.00      1.00      1.00       500\n",
            "           3       1.00      1.00      1.00       500\n",
            "\n",
            "    accuracy                           1.00      2000\n",
            "   macro avg       1.00      1.00      1.00      2000\n",
            "weighted avg       1.00      1.00      1.00      2000\n",
            "\n"
          ],
          "name": "stdout"
        }
      ]
    },
    {
      "cell_type": "code",
      "metadata": {
        "id": "5uaLAELAry28"
      },
      "source": [
        "# Bitcoin_Historical_Data.csv"
      ],
      "execution_count": null,
      "outputs": []
    },
    {
      "cell_type": "markdown",
      "metadata": {
        "id": "SE6Ebk3c2qWW"
      },
      "source": [
        "## Bitcoin"
      ]
    },
    {
      "cell_type": "code",
      "metadata": {
        "id": "kxR8Af7IkUHv"
      },
      "source": [
        "bitcoin_file = 'drive/My Drive/Projects/university/data-mining/hw-4/Bitcoin_Historical_Data.csv'"
      ],
      "execution_count": 39,
      "outputs": []
    },
    {
      "cell_type": "code",
      "metadata": {
        "id": "yVqDy8lXsDOg"
      },
      "source": [
        "df = pd.read_csv(bitcoin_file)"
      ],
      "execution_count": 40,
      "outputs": []
    },
    {
      "cell_type": "code",
      "metadata": {
        "colab": {
          "base_uri": "https://localhost:8080/",
          "height": 204
        },
        "id": "qsJTe_yvsKs8",
        "outputId": "265fe60e-81fe-4ac9-eecb-504675f5cd3d"
      },
      "source": [
        "df.head()"
      ],
      "execution_count": 41,
      "outputs": [
        {
          "output_type": "execute_result",
          "data": {
            "text/html": [
              "<div>\n",
              "<style scoped>\n",
              "    .dataframe tbody tr th:only-of-type {\n",
              "        vertical-align: middle;\n",
              "    }\n",
              "\n",
              "    .dataframe tbody tr th {\n",
              "        vertical-align: top;\n",
              "    }\n",
              "\n",
              "    .dataframe thead th {\n",
              "        text-align: right;\n",
              "    }\n",
              "</style>\n",
              "<table border=\"1\" class=\"dataframe\">\n",
              "  <thead>\n",
              "    <tr style=\"text-align: right;\">\n",
              "      <th></th>\n",
              "      <th>Date</th>\n",
              "      <th>Price</th>\n",
              "      <th>Open</th>\n",
              "      <th>High</th>\n",
              "      <th>Low</th>\n",
              "      <th>Vol.</th>\n",
              "      <th>Change %</th>\n",
              "    </tr>\n",
              "  </thead>\n",
              "  <tbody>\n",
              "    <tr>\n",
              "      <th>0</th>\n",
              "      <td>Jan 05, 2021</td>\n",
              "      <td>33,991.5</td>\n",
              "      <td>32,015.4</td>\n",
              "      <td>34,414.7</td>\n",
              "      <td>30,010.5</td>\n",
              "      <td>202.13K</td>\n",
              "      <td>6.15%</td>\n",
              "    </tr>\n",
              "    <tr>\n",
              "      <th>1</th>\n",
              "      <td>Jan 04, 2021</td>\n",
              "      <td>32,022.6</td>\n",
              "      <td>33,016.6</td>\n",
              "      <td>33,587.5</td>\n",
              "      <td>28,204.5</td>\n",
              "      <td>255.27K</td>\n",
              "      <td>-2.84%</td>\n",
              "    </tr>\n",
              "    <tr>\n",
              "      <th>2</th>\n",
              "      <td>Jan 03, 2021</td>\n",
              "      <td>32,958.9</td>\n",
              "      <td>32,192.9</td>\n",
              "      <td>34,755.9</td>\n",
              "      <td>32,029.6</td>\n",
              "      <td>155.21K</td>\n",
              "      <td>2.38%</td>\n",
              "    </tr>\n",
              "    <tr>\n",
              "      <th>3</th>\n",
              "      <td>Jan 02, 2021</td>\n",
              "      <td>32,193.3</td>\n",
              "      <td>29,359.7</td>\n",
              "      <td>33,233.5</td>\n",
              "      <td>29,008.0</td>\n",
              "      <td>240.87K</td>\n",
              "      <td>9.65%</td>\n",
              "    </tr>\n",
              "    <tr>\n",
              "      <th>4</th>\n",
              "      <td>Jan 01, 2021</td>\n",
              "      <td>29,359.9</td>\n",
              "      <td>28,951.7</td>\n",
              "      <td>29,627.1</td>\n",
              "      <td>28,712.4</td>\n",
              "      <td>100.90K</td>\n",
              "      <td>1.42%</td>\n",
              "    </tr>\n",
              "  </tbody>\n",
              "</table>\n",
              "</div>"
            ],
            "text/plain": [
              "           Date     Price      Open      High       Low     Vol. Change %\n",
              "0  Jan 05, 2021  33,991.5  32,015.4  34,414.7  30,010.5  202.13K    6.15%\n",
              "1  Jan 04, 2021  32,022.6  33,016.6  33,587.5  28,204.5  255.27K   -2.84%\n",
              "2  Jan 03, 2021  32,958.9  32,192.9  34,755.9  32,029.6  155.21K    2.38%\n",
              "3  Jan 02, 2021  32,193.3  29,359.7  33,233.5  29,008.0  240.87K    9.65%\n",
              "4  Jan 01, 2021  29,359.9  28,951.7  29,627.1  28,712.4  100.90K    1.42%"
            ]
          },
          "metadata": {
            "tags": []
          },
          "execution_count": 41
        }
      ]
    },
    {
      "cell_type": "code",
      "metadata": {
        "id": "GtI3F3bDsL-0"
      },
      "source": [
        "from datetime import datetime"
      ],
      "execution_count": 42,
      "outputs": []
    },
    {
      "cell_type": "code",
      "metadata": {
        "id": "h7FQ5ugWy4x2"
      },
      "source": [
        "def mdy_to_ymd(d):\n",
        "    return datetime.strptime(d, '%b %d, %Y').strftime('%Y-%m-%d')"
      ],
      "execution_count": 43,
      "outputs": []
    },
    {
      "cell_type": "code",
      "metadata": {
        "id": "hoYGXvWmy5HW"
      },
      "source": [
        "df['Date'] = df['Date'].apply(lambda x: mdy_to_ymd(x))"
      ],
      "execution_count": 44,
      "outputs": []
    },
    {
      "cell_type": "code",
      "metadata": {
        "id": "IHK-yKHNPBHn"
      },
      "source": [
        "df['Vol.'] = pd.to_numeric(df['Vol.'].apply(lambda x: x[:-1]))\n",
        "df['Change %'] = pd.to_numeric(df['Change %'].apply(lambda x: x[:-1]))"
      ],
      "execution_count": 45,
      "outputs": []
    },
    {
      "cell_type": "code",
      "metadata": {
        "colab": {
          "base_uri": "https://localhost:8080/",
          "height": 204
        },
        "id": "zJvW9NazzAoD",
        "outputId": "fc830dfe-ff58-413b-8b9d-c15087240a19"
      },
      "source": [
        "df.head()"
      ],
      "execution_count": 46,
      "outputs": [
        {
          "output_type": "execute_result",
          "data": {
            "text/html": [
              "<div>\n",
              "<style scoped>\n",
              "    .dataframe tbody tr th:only-of-type {\n",
              "        vertical-align: middle;\n",
              "    }\n",
              "\n",
              "    .dataframe tbody tr th {\n",
              "        vertical-align: top;\n",
              "    }\n",
              "\n",
              "    .dataframe thead th {\n",
              "        text-align: right;\n",
              "    }\n",
              "</style>\n",
              "<table border=\"1\" class=\"dataframe\">\n",
              "  <thead>\n",
              "    <tr style=\"text-align: right;\">\n",
              "      <th></th>\n",
              "      <th>Date</th>\n",
              "      <th>Price</th>\n",
              "      <th>Open</th>\n",
              "      <th>High</th>\n",
              "      <th>Low</th>\n",
              "      <th>Vol.</th>\n",
              "      <th>Change %</th>\n",
              "    </tr>\n",
              "  </thead>\n",
              "  <tbody>\n",
              "    <tr>\n",
              "      <th>0</th>\n",
              "      <td>2021-01-05</td>\n",
              "      <td>33,991.5</td>\n",
              "      <td>32,015.4</td>\n",
              "      <td>34,414.7</td>\n",
              "      <td>30,010.5</td>\n",
              "      <td>202.13</td>\n",
              "      <td>6.15</td>\n",
              "    </tr>\n",
              "    <tr>\n",
              "      <th>1</th>\n",
              "      <td>2021-01-04</td>\n",
              "      <td>32,022.6</td>\n",
              "      <td>33,016.6</td>\n",
              "      <td>33,587.5</td>\n",
              "      <td>28,204.5</td>\n",
              "      <td>255.27</td>\n",
              "      <td>-2.84</td>\n",
              "    </tr>\n",
              "    <tr>\n",
              "      <th>2</th>\n",
              "      <td>2021-01-03</td>\n",
              "      <td>32,958.9</td>\n",
              "      <td>32,192.9</td>\n",
              "      <td>34,755.9</td>\n",
              "      <td>32,029.6</td>\n",
              "      <td>155.21</td>\n",
              "      <td>2.38</td>\n",
              "    </tr>\n",
              "    <tr>\n",
              "      <th>3</th>\n",
              "      <td>2021-01-02</td>\n",
              "      <td>32,193.3</td>\n",
              "      <td>29,359.7</td>\n",
              "      <td>33,233.5</td>\n",
              "      <td>29,008.0</td>\n",
              "      <td>240.87</td>\n",
              "      <td>9.65</td>\n",
              "    </tr>\n",
              "    <tr>\n",
              "      <th>4</th>\n",
              "      <td>2021-01-01</td>\n",
              "      <td>29,359.9</td>\n",
              "      <td>28,951.7</td>\n",
              "      <td>29,627.1</td>\n",
              "      <td>28,712.4</td>\n",
              "      <td>100.90</td>\n",
              "      <td>1.42</td>\n",
              "    </tr>\n",
              "  </tbody>\n",
              "</table>\n",
              "</div>"
            ],
            "text/plain": [
              "         Date     Price      Open      High       Low    Vol.  Change %\n",
              "0  2021-01-05  33,991.5  32,015.4  34,414.7  30,010.5  202.13      6.15\n",
              "1  2021-01-04  32,022.6  33,016.6  33,587.5  28,204.5  255.27     -2.84\n",
              "2  2021-01-03  32,958.9  32,192.9  34,755.9  32,029.6  155.21      2.38\n",
              "3  2021-01-02  32,193.3  29,359.7  33,233.5  29,008.0  240.87      9.65\n",
              "4  2021-01-01  29,359.9  28,951.7  29,627.1  28,712.4  100.90      1.42"
            ]
          },
          "metadata": {
            "tags": []
          },
          "execution_count": 46
        }
      ]
    },
    {
      "cell_type": "code",
      "metadata": {
        "id": "7B413cMHrMdf"
      },
      "source": [
        "def remove_comma(x):\n",
        "  arr = x.split(',')\n",
        "  number = ''\n",
        "  for i in arr:\n",
        "    number += i\n",
        "  return float(number)"
      ],
      "execution_count": 47,
      "outputs": []
    },
    {
      "cell_type": "code",
      "metadata": {
        "id": "3R96O2PmPdfl"
      },
      "source": [
        "for column in ['Price', 'Open', 'High', 'Low']:\n",
        "  df[column] = df[column].apply(remove_comma)"
      ],
      "execution_count": 48,
      "outputs": []
    },
    {
      "cell_type": "code",
      "metadata": {
        "colab": {
          "base_uri": "https://localhost:8080/"
        },
        "id": "wJQkM5N91eh_",
        "outputId": "422aae78-ffa4-44ad-c314-73826c130506"
      },
      "source": [
        "df[df['Date'] == '2020-01-01'].index[0]"
      ],
      "execution_count": 49,
      "outputs": [
        {
          "output_type": "execute_result",
          "data": {
            "text/plain": [
              "370"
            ]
          },
          "metadata": {
            "tags": []
          },
          "execution_count": 49
        }
      ]
    },
    {
      "cell_type": "code",
      "metadata": {
        "id": "QVE9QHHcQrrY"
      },
      "source": [
        "df['Date'] = pd.to_datetime(df.Date)"
      ],
      "execution_count": 50,
      "outputs": []
    },
    {
      "cell_type": "code",
      "metadata": {
        "colab": {
          "base_uri": "https://localhost:8080/",
          "height": 419
        },
        "id": "F-K76gIJSgzr",
        "outputId": "dafaf9cc-6a1c-42a7-fbd4-70aed08e1b67"
      },
      "source": [
        "df"
      ],
      "execution_count": 51,
      "outputs": [
        {
          "output_type": "execute_result",
          "data": {
            "text/html": [
              "<div>\n",
              "<style scoped>\n",
              "    .dataframe tbody tr th:only-of-type {\n",
              "        vertical-align: middle;\n",
              "    }\n",
              "\n",
              "    .dataframe tbody tr th {\n",
              "        vertical-align: top;\n",
              "    }\n",
              "\n",
              "    .dataframe thead th {\n",
              "        text-align: right;\n",
              "    }\n",
              "</style>\n",
              "<table border=\"1\" class=\"dataframe\">\n",
              "  <thead>\n",
              "    <tr style=\"text-align: right;\">\n",
              "      <th></th>\n",
              "      <th>Date</th>\n",
              "      <th>Price</th>\n",
              "      <th>Open</th>\n",
              "      <th>High</th>\n",
              "      <th>Low</th>\n",
              "      <th>Vol.</th>\n",
              "      <th>Change %</th>\n",
              "    </tr>\n",
              "  </thead>\n",
              "  <tbody>\n",
              "    <tr>\n",
              "      <th>0</th>\n",
              "      <td>2021-01-05</td>\n",
              "      <td>33991.5</td>\n",
              "      <td>32015.4</td>\n",
              "      <td>34414.7</td>\n",
              "      <td>30010.5</td>\n",
              "      <td>202.13</td>\n",
              "      <td>6.15</td>\n",
              "    </tr>\n",
              "    <tr>\n",
              "      <th>1</th>\n",
              "      <td>2021-01-04</td>\n",
              "      <td>32022.6</td>\n",
              "      <td>33016.6</td>\n",
              "      <td>33587.5</td>\n",
              "      <td>28204.5</td>\n",
              "      <td>255.27</td>\n",
              "      <td>-2.84</td>\n",
              "    </tr>\n",
              "    <tr>\n",
              "      <th>2</th>\n",
              "      <td>2021-01-03</td>\n",
              "      <td>32958.9</td>\n",
              "      <td>32192.9</td>\n",
              "      <td>34755.9</td>\n",
              "      <td>32029.6</td>\n",
              "      <td>155.21</td>\n",
              "      <td>2.38</td>\n",
              "    </tr>\n",
              "    <tr>\n",
              "      <th>3</th>\n",
              "      <td>2021-01-02</td>\n",
              "      <td>32193.3</td>\n",
              "      <td>29359.7</td>\n",
              "      <td>33233.5</td>\n",
              "      <td>29008.0</td>\n",
              "      <td>240.87</td>\n",
              "      <td>9.65</td>\n",
              "    </tr>\n",
              "    <tr>\n",
              "      <th>4</th>\n",
              "      <td>2021-01-01</td>\n",
              "      <td>29359.9</td>\n",
              "      <td>28951.7</td>\n",
              "      <td>29627.1</td>\n",
              "      <td>28712.4</td>\n",
              "      <td>100.90</td>\n",
              "      <td>1.42</td>\n",
              "    </tr>\n",
              "    <tr>\n",
              "      <th>...</th>\n",
              "      <td>...</td>\n",
              "      <td>...</td>\n",
              "      <td>...</td>\n",
              "      <td>...</td>\n",
              "      <td>...</td>\n",
              "      <td>...</td>\n",
              "      <td>...</td>\n",
              "    </tr>\n",
              "    <tr>\n",
              "      <th>3820</th>\n",
              "      <td>2010-07-22</td>\n",
              "      <td>0.1</td>\n",
              "      <td>0.1</td>\n",
              "      <td>0.1</td>\n",
              "      <td>0.1</td>\n",
              "      <td>2.16</td>\n",
              "      <td>0.00</td>\n",
              "    </tr>\n",
              "    <tr>\n",
              "      <th>3821</th>\n",
              "      <td>2010-07-21</td>\n",
              "      <td>0.1</td>\n",
              "      <td>0.1</td>\n",
              "      <td>0.1</td>\n",
              "      <td>0.1</td>\n",
              "      <td>0.58</td>\n",
              "      <td>0.00</td>\n",
              "    </tr>\n",
              "    <tr>\n",
              "      <th>3822</th>\n",
              "      <td>2010-07-20</td>\n",
              "      <td>0.1</td>\n",
              "      <td>0.1</td>\n",
              "      <td>0.1</td>\n",
              "      <td>0.1</td>\n",
              "      <td>0.26</td>\n",
              "      <td>0.00</td>\n",
              "    </tr>\n",
              "    <tr>\n",
              "      <th>3823</th>\n",
              "      <td>2010-07-19</td>\n",
              "      <td>0.1</td>\n",
              "      <td>0.1</td>\n",
              "      <td>0.1</td>\n",
              "      <td>0.1</td>\n",
              "      <td>0.57</td>\n",
              "      <td>0.00</td>\n",
              "    </tr>\n",
              "    <tr>\n",
              "      <th>3824</th>\n",
              "      <td>2010-07-18</td>\n",
              "      <td>0.1</td>\n",
              "      <td>0.0</td>\n",
              "      <td>0.1</td>\n",
              "      <td>0.1</td>\n",
              "      <td>0.08</td>\n",
              "      <td>0.00</td>\n",
              "    </tr>\n",
              "  </tbody>\n",
              "</table>\n",
              "<p>3825 rows × 7 columns</p>\n",
              "</div>"
            ],
            "text/plain": [
              "           Date    Price     Open     High      Low    Vol.  Change %\n",
              "0    2021-01-05  33991.5  32015.4  34414.7  30010.5  202.13      6.15\n",
              "1    2021-01-04  32022.6  33016.6  33587.5  28204.5  255.27     -2.84\n",
              "2    2021-01-03  32958.9  32192.9  34755.9  32029.6  155.21      2.38\n",
              "3    2021-01-02  32193.3  29359.7  33233.5  29008.0  240.87      9.65\n",
              "4    2021-01-01  29359.9  28951.7  29627.1  28712.4  100.90      1.42\n",
              "...         ...      ...      ...      ...      ...     ...       ...\n",
              "3820 2010-07-22      0.1      0.1      0.1      0.1    2.16      0.00\n",
              "3821 2010-07-21      0.1      0.1      0.1      0.1    0.58      0.00\n",
              "3822 2010-07-20      0.1      0.1      0.1      0.1    0.26      0.00\n",
              "3823 2010-07-19      0.1      0.1      0.1      0.1    0.57      0.00\n",
              "3824 2010-07-18      0.1      0.0      0.1      0.1    0.08      0.00\n",
              "\n",
              "[3825 rows x 7 columns]"
            ]
          },
          "metadata": {
            "tags": []
          },
          "execution_count": 51
        }
      ]
    },
    {
      "cell_type": "code",
      "metadata": {
        "id": "04oTmXsUTlUg"
      },
      "source": [
        "df = df.fillna(0)"
      ],
      "execution_count": 52,
      "outputs": []
    },
    {
      "cell_type": "code",
      "metadata": {
        "id": "5-3Me7VS2492"
      },
      "source": [
        "test = df.iloc[:371, :]\n",
        "train = df.iloc[371:, :]"
      ],
      "execution_count": 53,
      "outputs": []
    },
    {
      "cell_type": "code",
      "metadata": {
        "id": "2toEvpBaSo5k"
      },
      "source": [
        "train = train.drop(columns = ['Date'])"
      ],
      "execution_count": 54,
      "outputs": []
    },
    {
      "cell_type": "code",
      "metadata": {
        "id": "U1lCmN8FSsAQ"
      },
      "source": [
        "test = test.drop(columns = ['Date'])"
      ],
      "execution_count": 55,
      "outputs": []
    },
    {
      "cell_type": "code",
      "metadata": {
        "colab": {
          "base_uri": "https://localhost:8080/",
          "height": 204
        },
        "id": "_lpJTQQs4m5-",
        "outputId": "5440da1e-a237-4192-dcea-4def83efe06d"
      },
      "source": [
        "train.head()"
      ],
      "execution_count": 56,
      "outputs": [
        {
          "output_type": "execute_result",
          "data": {
            "text/html": [
              "<div>\n",
              "<style scoped>\n",
              "    .dataframe tbody tr th:only-of-type {\n",
              "        vertical-align: middle;\n",
              "    }\n",
              "\n",
              "    .dataframe tbody tr th {\n",
              "        vertical-align: top;\n",
              "    }\n",
              "\n",
              "    .dataframe thead th {\n",
              "        text-align: right;\n",
              "    }\n",
              "</style>\n",
              "<table border=\"1\" class=\"dataframe\">\n",
              "  <thead>\n",
              "    <tr style=\"text-align: right;\">\n",
              "      <th></th>\n",
              "      <th>Price</th>\n",
              "      <th>Open</th>\n",
              "      <th>High</th>\n",
              "      <th>Low</th>\n",
              "      <th>Vol.</th>\n",
              "      <th>Change %</th>\n",
              "    </tr>\n",
              "  </thead>\n",
              "  <tbody>\n",
              "    <tr>\n",
              "      <th>371</th>\n",
              "      <td>7196.4</td>\n",
              "      <td>7261.5</td>\n",
              "      <td>7331.0</td>\n",
              "      <td>7167.4</td>\n",
              "      <td>586.60</td>\n",
              "      <td>-0.90</td>\n",
              "    </tr>\n",
              "    <tr>\n",
              "      <th>372</th>\n",
              "      <td>7261.8</td>\n",
              "      <td>7397.5</td>\n",
              "      <td>7420.9</td>\n",
              "      <td>7244.1</td>\n",
              "      <td>606.11</td>\n",
              "      <td>-1.84</td>\n",
              "    </tr>\n",
              "    <tr>\n",
              "      <th>373</th>\n",
              "      <td>7397.5</td>\n",
              "      <td>7321.6</td>\n",
              "      <td>7518.9</td>\n",
              "      <td>7303.0</td>\n",
              "      <td>611.69</td>\n",
              "      <td>1.04</td>\n",
              "    </tr>\n",
              "    <tr>\n",
              "      <th>374</th>\n",
              "      <td>7321.5</td>\n",
              "      <td>7261.9</td>\n",
              "      <td>7375.9</td>\n",
              "      <td>7256.5</td>\n",
              "      <td>610.96</td>\n",
              "      <td>0.82</td>\n",
              "    </tr>\n",
              "    <tr>\n",
              "      <th>375</th>\n",
              "      <td>7261.7</td>\n",
              "      <td>7210.8</td>\n",
              "      <td>7293.8</td>\n",
              "      <td>7128.5</td>\n",
              "      <td>718.07</td>\n",
              "      <td>0.70</td>\n",
              "    </tr>\n",
              "  </tbody>\n",
              "</table>\n",
              "</div>"
            ],
            "text/plain": [
              "      Price    Open    High     Low    Vol.  Change %\n",
              "371  7196.4  7261.5  7331.0  7167.4  586.60     -0.90\n",
              "372  7261.8  7397.5  7420.9  7244.1  606.11     -1.84\n",
              "373  7397.5  7321.6  7518.9  7303.0  611.69      1.04\n",
              "374  7321.5  7261.9  7375.9  7256.5  610.96      0.82\n",
              "375  7261.7  7210.8  7293.8  7128.5  718.07      0.70"
            ]
          },
          "metadata": {
            "tags": []
          },
          "execution_count": 56
        }
      ]
    },
    {
      "cell_type": "code",
      "metadata": {
        "colab": {
          "base_uri": "https://localhost:8080/",
          "height": 204
        },
        "id": "hex9BY-D5WUB",
        "outputId": "602c883a-b5b4-4aea-a7d6-0402a5288112"
      },
      "source": [
        "test.head()"
      ],
      "execution_count": 57,
      "outputs": [
        {
          "output_type": "execute_result",
          "data": {
            "text/html": [
              "<div>\n",
              "<style scoped>\n",
              "    .dataframe tbody tr th:only-of-type {\n",
              "        vertical-align: middle;\n",
              "    }\n",
              "\n",
              "    .dataframe tbody tr th {\n",
              "        vertical-align: top;\n",
              "    }\n",
              "\n",
              "    .dataframe thead th {\n",
              "        text-align: right;\n",
              "    }\n",
              "</style>\n",
              "<table border=\"1\" class=\"dataframe\">\n",
              "  <thead>\n",
              "    <tr style=\"text-align: right;\">\n",
              "      <th></th>\n",
              "      <th>Price</th>\n",
              "      <th>Open</th>\n",
              "      <th>High</th>\n",
              "      <th>Low</th>\n",
              "      <th>Vol.</th>\n",
              "      <th>Change %</th>\n",
              "    </tr>\n",
              "  </thead>\n",
              "  <tbody>\n",
              "    <tr>\n",
              "      <th>0</th>\n",
              "      <td>33991.5</td>\n",
              "      <td>32015.4</td>\n",
              "      <td>34414.7</td>\n",
              "      <td>30010.5</td>\n",
              "      <td>202.13</td>\n",
              "      <td>6.15</td>\n",
              "    </tr>\n",
              "    <tr>\n",
              "      <th>1</th>\n",
              "      <td>32022.6</td>\n",
              "      <td>33016.6</td>\n",
              "      <td>33587.5</td>\n",
              "      <td>28204.5</td>\n",
              "      <td>255.27</td>\n",
              "      <td>-2.84</td>\n",
              "    </tr>\n",
              "    <tr>\n",
              "      <th>2</th>\n",
              "      <td>32958.9</td>\n",
              "      <td>32192.9</td>\n",
              "      <td>34755.9</td>\n",
              "      <td>32029.6</td>\n",
              "      <td>155.21</td>\n",
              "      <td>2.38</td>\n",
              "    </tr>\n",
              "    <tr>\n",
              "      <th>3</th>\n",
              "      <td>32193.3</td>\n",
              "      <td>29359.7</td>\n",
              "      <td>33233.5</td>\n",
              "      <td>29008.0</td>\n",
              "      <td>240.87</td>\n",
              "      <td>9.65</td>\n",
              "    </tr>\n",
              "    <tr>\n",
              "      <th>4</th>\n",
              "      <td>29359.9</td>\n",
              "      <td>28951.7</td>\n",
              "      <td>29627.1</td>\n",
              "      <td>28712.4</td>\n",
              "      <td>100.90</td>\n",
              "      <td>1.42</td>\n",
              "    </tr>\n",
              "  </tbody>\n",
              "</table>\n",
              "</div>"
            ],
            "text/plain": [
              "     Price     Open     High      Low    Vol.  Change %\n",
              "0  33991.5  32015.4  34414.7  30010.5  202.13      6.15\n",
              "1  32022.6  33016.6  33587.5  28204.5  255.27     -2.84\n",
              "2  32958.9  32192.9  34755.9  32029.6  155.21      2.38\n",
              "3  32193.3  29359.7  33233.5  29008.0  240.87      9.65\n",
              "4  29359.9  28951.7  29627.1  28712.4  100.90      1.42"
            ]
          },
          "metadata": {
            "tags": []
          },
          "execution_count": 57
        }
      ]
    },
    {
      "cell_type": "code",
      "metadata": {
        "id": "L_Zjh38Hph6b"
      },
      "source": [
        "train_y = train['Price']\n",
        "train_x = train.drop(columns = ['Price'])\n",
        "\n",
        "test_y = test['Price']\n",
        "test_x = test.drop(columns = ['Price'])"
      ],
      "execution_count": 58,
      "outputs": []
    },
    {
      "cell_type": "code",
      "metadata": {
        "id": "h6uon62fp0CF"
      },
      "source": [
        ""
      ],
      "execution_count": null,
      "outputs": []
    },
    {
      "cell_type": "code",
      "metadata": {
        "id": "0bRgSX5bo0a7"
      },
      "source": [
        "from sklearn.ensemble import RandomForestRegressor, AdaBoostRegressor, GradientBoostingRegressor\n",
        "from sklearn.linear_model import LinearRegression, Ridge, Lasso, BayesianRidge\n",
        "from sklearn.metrics import mean_squared_error\n",
        "from sklearn.tree import DecisionTreeRegressor\n"
      ],
      "execution_count": 65,
      "outputs": []
    },
    {
      "cell_type": "code",
      "metadata": {
        "id": "fdmVZCFt5dh1"
      },
      "source": [
        "models = {\n",
        "    'LinearRegression':LinearRegression(),\n",
        "    'Ridge':Ridge(),\n",
        "    'Lasso':Lasso(),\n",
        "    'DecisionTreeRegressor':DecisionTreeRegressor(),\n",
        "    'RandomForestRegressor':RandomForestRegressor(),\n",
        "    'AdaBoostRegressor':AdaBoostRegressor(),\n",
        "    'GradientBoostingRegressor':GradientBoostingRegressor(),\n",
        "    'BayesianRidge()':BayesianRidge(),\n",
        "}"
      ],
      "execution_count": null,
      "outputs": []
    },
    {
      "cell_type": "code",
      "metadata": {
        "colab": {
          "base_uri": "https://localhost:8080/"
        },
        "id": "IAtZqF1XqaKX",
        "outputId": "57d2f628-01b2-4a6d-b011-f9fea3fa3d8b"
      },
      "source": [
        "for name, model in models.items():\n",
        "  model.fit(train_x, train_y)\n",
        "  train_pred = model.predict(train_x)\n",
        "  train_mse = mean_squared_error(train_y, train_pred)\n",
        "\n",
        "  test_pred = model.predict(test_x)\n",
        "  test_mse = mean_squared_error(test_y, test_pred)\n",
        "\n",
        "  print('{} --> train mse: {:0.4f} ,  test mse: {:0.4f} \\n'.format(name, train_mse, test_mse))\n"
      ],
      "execution_count": null,
      "outputs": [
        {
          "output_type": "stream",
          "text": [
            "LinearRegression --> train mse: 6072.6493 ,  test mse: 39162.6274 \n",
            "\n",
            "Ridge --> train mse: 6072.6493 ,  test mse: 39162.6307 \n",
            "\n",
            "Lasso --> train mse: 7252.6713 ,  test mse: 43258.4955 \n",
            "\n",
            "DecisionTreeRegressor --> train mse: 0.0000 ,  test mse: 4010967.5819 \n",
            "\n"
          ],
          "name": "stdout"
        },
        {
          "output_type": "stream",
          "text": [
            "/usr/local/lib/python3.7/dist-packages/sklearn/linear_model/_coordinate_descent.py:476: ConvergenceWarning: Objective did not converge. You might want to increase the number of iterations. Duality gap: 12534090.924761625, tolerance: 4104365.0088528185\n",
            "  positive)\n"
          ],
          "name": "stderr"
        },
        {
          "output_type": "stream",
          "text": [
            "RandomForestRegressor --> train mse: 1090.4298 ,  test mse: 4138685.4864 \n",
            "\n",
            "AdaBoostRegressor --> train mse: 66826.7938 ,  test mse: 4728619.8880 \n",
            "\n",
            "GradientBoostingRegressor --> train mse: 1496.7909 ,  test mse: 4076197.0881 \n",
            "\n",
            "BayesianRidge() --> train mse: 6072.8738 ,  test mse: 39207.8160 \n",
            "\n"
          ],
          "name": "stdout"
        }
      ]
    },
    {
      "cell_type": "markdown",
      "metadata": {
        "id": "5lQfV2C0YZfg"
      },
      "source": [
        "## Voting"
      ]
    },
    {
      "cell_type": "code",
      "metadata": {
        "id": "UiuCPJNDqud7"
      },
      "source": [
        "from sklearn.ensemble import VotingRegressor"
      ],
      "execution_count": null,
      "outputs": []
    },
    {
      "cell_type": "code",
      "metadata": {
        "colab": {
          "base_uri": "https://localhost:8080/"
        },
        "id": "Bil1uruAXiPb",
        "outputId": "37c1fcd6-b056-4f0c-985a-fd7729c2d0b9"
      },
      "source": [
        "vot_model = VotingRegressor([('BayesianRidge', BayesianRidge()), ('Lasso', Lasso())])\n",
        "vot_model.fit(train_x, train_y)\n",
        "\n",
        "train_pred = vot_model.predict(train_x)\n",
        "train_mse = mean_squared_error(train_y, train_pred)\n",
        "\n",
        "test_pred = vot_model.predict(test_x)\n",
        "test_mse = mean_squared_error(test_y, test_pred)\n",
        "\n",
        "print('voting model --> train mse: {:0.4f} ,  test mse: {:0.4f} \\n'.format(train_mse, test_mse))"
      ],
      "execution_count": null,
      "outputs": [
        {
          "output_type": "stream",
          "text": [
            "voting model --> train mse: 6366.0376 ,  test mse: 39796.6373 \n",
            "\n"
          ],
          "name": "stdout"
        },
        {
          "output_type": "stream",
          "text": [
            "/usr/local/lib/python3.7/dist-packages/sklearn/linear_model/_coordinate_descent.py:476: ConvergenceWarning: Objective did not converge. You might want to increase the number of iterations. Duality gap: 12534090.924761625, tolerance: 4104365.0088528185\n",
            "  positive)\n"
          ],
          "name": "stderr"
        }
      ]
    },
    {
      "cell_type": "markdown",
      "metadata": {
        "id": "Xrp-ZhyMYvwb"
      },
      "source": [
        "## Baggin"
      ]
    },
    {
      "cell_type": "code",
      "metadata": {
        "id": "WrWYnPe0Y1US"
      },
      "source": [
        "from sklearn.ensemble import BaggingRegressor"
      ],
      "execution_count": null,
      "outputs": []
    },
    {
      "cell_type": "code",
      "metadata": {
        "colab": {
          "base_uri": "https://localhost:8080/"
        },
        "id": "bTldAI_6Y4ZK",
        "outputId": "9cb002c5-0f5f-4bfa-c8f2-403a3bfb80c6"
      },
      "source": [
        "bag_model = BaggingRegressor(base_estimator=DecisionTreeRegressor(), n_estimators=200)\n",
        "\n",
        "bag_model.fit(train_x, train_y)\n",
        "train_pred = bag_model.predict(train_x)\n",
        "train_mse = mean_squared_error(train_y, train_pred)\n",
        "\n",
        "test_pred = bag_model.predict(test_x)\n",
        "test_mse = mean_squared_error(test_y, test_pred)\n",
        "\n",
        "print('bag model (DecisionTreeRegressor)--> train mse: {:0.4f} ,  test mse: {:0.4f} \\n'.format(train_mse, test_mse))"
      ],
      "execution_count": null,
      "outputs": [
        {
          "output_type": "stream",
          "text": [
            "bag model (DecisionTreeRegressor)--> train mse: 1083.3992 ,  test mse: 4102538.7461 \n",
            "\n"
          ],
          "name": "stdout"
        }
      ]
    },
    {
      "cell_type": "code",
      "metadata": {
        "colab": {
          "base_uri": "https://localhost:8080/"
        },
        "id": "2yrYF6btZDi3",
        "outputId": "563c558a-bc04-4434-91a4-8fcea65cb7b0"
      },
      "source": [
        "bag_model = BaggingRegressor(base_estimator=RandomForestRegressor(), n_estimators=150)\n",
        "\n",
        "bag_model.fit(train_x, train_y)\n",
        "train_pred = bag_model.predict(train_x)\n",
        "train_mse = mean_squared_error(train_y, train_pred)\n",
        "\n",
        "test_pred = bag_model.predict(test_x)\n",
        "test_mse = mean_squared_error(test_y, test_pred)\n",
        "\n",
        "print('bagging model (RandomForestRegressor) --> train mse: {:0.4f} ,  test mse: {:0.4f} \\n'.format(train_mse, test_mse))"
      ],
      "execution_count": null,
      "outputs": [
        {
          "output_type": "stream",
          "text": [
            "bagging model (RandomForestRegressor) --> train mse: 3198.0355 ,  test mse: 4486981.0602 \n",
            "\n"
          ],
          "name": "stdout"
        }
      ]
    },
    {
      "cell_type": "markdown",
      "metadata": {
        "id": "RxY_3XImaCj-"
      },
      "source": [
        "## Boosting"
      ]
    },
    {
      "cell_type": "code",
      "metadata": {
        "id": "u0m6EXLsaN0p"
      },
      "source": [
        " from sklearn.ensemble import GradientBoostingRegressor"
      ],
      "execution_count": null,
      "outputs": []
    },
    {
      "cell_type": "code",
      "metadata": {
        "colab": {
          "base_uri": "https://localhost:8080/"
        },
        "id": "CPakM8odeX8W",
        "outputId": "0109e278-9540-4859-bd6c-e71333fecca3"
      },
      "source": [
        "boost_model = GradientBoostingRegressor()\n",
        "\n",
        "boost_model.fit(train_x, train_y)\n",
        "train_pred = boost_model.predict(train_x)\n",
        "train_mse = mean_squared_error(train_y, train_pred)\n",
        "\n",
        "test_pred = boost_model.predict(test_x)\n",
        "test_mse = mean_squared_error(test_y, test_pred)\n",
        "\n",
        "print('boost model (RandomForestRegressor) --> train mse: {:0.4f} ,  test mse: {:0.4f} \\n'.format(train_mse, test_mse))"
      ],
      "execution_count": null,
      "outputs": [
        {
          "output_type": "stream",
          "text": [
            "boost model (RandomForestRegressor) --> train mse: 1496.7909 ,  test mse: 4075739.9141 \n",
            "\n"
          ],
          "name": "stdout"
        }
      ]
    },
    {
      "cell_type": "code",
      "metadata": {
        "id": "vV9toaIYeflL"
      },
      "source": [
        "from xgboost import XGBRegressor"
      ],
      "execution_count": null,
      "outputs": []
    },
    {
      "cell_type": "code",
      "metadata": {
        "colab": {
          "base_uri": "https://localhost:8080/"
        },
        "id": "19fVKJpTgtyB",
        "outputId": "c053f96d-5365-428f-fd63-24ca59175d10"
      },
      "source": [
        "xgb_model = XGBRegressor()\n",
        "\n",
        "xgb_model.fit(train_x, train_y)\n",
        "train_pred = xgb_model.predict(train_x)\n",
        "train_mse = mean_squared_error(train_y, train_pred)\n",
        "\n",
        "test_pred = xgb_model.predict(test_x)\n",
        "test_mse = mean_squared_error(test_y, test_pred)\n",
        "\n",
        "print('xgb_model --> train mse: {:0.4f} ,  test mse: {:0.4f} \\n'.format(train_mse, test_mse))"
      ],
      "execution_count": null,
      "outputs": [
        {
          "output_type": "stream",
          "text": [
            "[05:51:06] WARNING: /workspace/src/objective/regression_obj.cu:152: reg:linear is now deprecated in favor of reg:squarederror.\n",
            "xgb_model --> train mse: 1678.5727 ,  test mse: 4076497.7814 \n",
            "\n"
          ],
          "name": "stdout"
        }
      ]
    },
    {
      "cell_type": "markdown",
      "metadata": {
        "id": "39jfZpsrhRTH"
      },
      "source": [
        "## Random forest"
      ]
    },
    {
      "cell_type": "code",
      "metadata": {
        "id": "frNj-VaRhqHh"
      },
      "source": [
        "from sklearn.ensemble import RandomForestRegressor"
      ],
      "execution_count": 63,
      "outputs": []
    },
    {
      "cell_type": "code",
      "metadata": {
        "colab": {
          "base_uri": "https://localhost:8080/"
        },
        "id": "kJE44VcjQYIW",
        "outputId": "fed21fe5-da3f-4d10-ceeb-df43187c6403"
      },
      "source": [
        "forest_model = RandomForestRegressor(max_depth=2)\n",
        "\n",
        "forest_model.fit(train_x, train_y)\n",
        "train_pred = forest_model.predict(train_x)\n",
        "train_mse = mean_squared_error(train_y, train_pred)\n",
        "\n",
        "test_pred = forest_model.predict(test_x)\n",
        "test_mse = mean_squared_error(test_y, test_pred)\n",
        "\n",
        "print('forest_model --> train mse: {:0.4f} ,  test mse: {:0.4f} \\n'.format(train_mse, test_mse))"
      ],
      "execution_count": 66,
      "outputs": [
        {
          "output_type": "stream",
          "text": [
            "forest_model --> train mse: 519805.9049 ,  test mse: 18638898.3127 \n",
            "\n"
          ],
          "name": "stdout"
        }
      ]
    },
    {
      "cell_type": "code",
      "metadata": {
        "colab": {
          "base_uri": "https://localhost:8080/"
        },
        "id": "H7C_AQIISx_7",
        "outputId": "f482fa67-5e6d-4b5e-a1e2-7816b4110825"
      },
      "source": [
        "forest_model = RandomForestRegressor(max_depth=4)\n",
        "\n",
        "forest_model.fit(train_x, train_y)\n",
        "train_pred = forest_model.predict(train_x)\n",
        "train_mse = mean_squared_error(train_y, train_pred)\n",
        "\n",
        "test_pred = forest_model.predict(test_x)\n",
        "test_mse = mean_squared_error(test_y, test_pred)\n",
        "\n",
        "print('forest_model --> train mse: {:0.4f} ,  test mse: {:0.4f} \\n'.format(train_mse, test_mse))"
      ],
      "execution_count": 67,
      "outputs": [
        {
          "output_type": "stream",
          "text": [
            "forest_model --> train mse: 26673.4330 ,  test mse: 6130576.8858 \n",
            "\n"
          ],
          "name": "stdout"
        }
      ]
    },
    {
      "cell_type": "code",
      "metadata": {
        "colab": {
          "base_uri": "https://localhost:8080/"
        },
        "id": "nRViPDfaUr01",
        "outputId": "8cf4dfac-aa94-407a-d3fe-ef03511f519e"
      },
      "source": [
        "forest_model = RandomForestRegressor(max_depth=8)\n",
        "\n",
        "forest_model.fit(train_x, train_y)\n",
        "train_pred = forest_model.predict(train_x)\n",
        "train_mse = mean_squared_error(train_y, train_pred)\n",
        "\n",
        "test_pred = forest_model.predict(test_x)\n",
        "test_mse = mean_squared_error(test_y, test_pred)\n",
        "\n",
        "print('forest_model --> train mse: {:0.4f} ,  test mse: {:0.4f} \\n'.format(train_mse, test_mse))"
      ],
      "execution_count": 68,
      "outputs": [
        {
          "output_type": "stream",
          "text": [
            "forest_model --> train mse: 1673.1792 ,  test mse: 4204163.9566 \n",
            "\n"
          ],
          "name": "stdout"
        }
      ]
    },
    {
      "cell_type": "code",
      "metadata": {
        "colab": {
          "base_uri": "https://localhost:8080/"
        },
        "id": "NlOVx5KcUtqA",
        "outputId": "e40cadb9-5ba5-46dc-90d3-6b0af7922c24"
      },
      "source": [
        "forest_model = RandomForestRegressor(max_depth=10)\n",
        "\n",
        "forest_model.fit(train_x, train_y)\n",
        "train_pred = forest_model.predict(train_x)\n",
        "train_mse = mean_squared_error(train_y, train_pred)\n",
        "\n",
        "test_pred = forest_model.predict(test_x)\n",
        "test_mse = mean_squared_error(test_y, test_pred)\n",
        "\n",
        "print('forest_model --> train mse: {:0.4f} ,  test mse: {:0.4f} \\n'.format(train_mse, test_mse))"
      ],
      "execution_count": 69,
      "outputs": [
        {
          "output_type": "stream",
          "text": [
            "forest_model --> train mse: 1216.2120 ,  test mse: 4138878.0938 \n",
            "\n"
          ],
          "name": "stdout"
        }
      ]
    },
    {
      "cell_type": "code",
      "metadata": {
        "id": "1TMpZ3v7U8fR"
      },
      "source": [
        ""
      ],
      "execution_count": null,
      "outputs": []
    }
  ]
}